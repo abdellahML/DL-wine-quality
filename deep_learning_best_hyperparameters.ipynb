{
 "cells": [
  {
   "cell_type": "code",
   "execution_count": 34,
   "metadata": {},
   "outputs": [],
   "source": [
    "import pandas as pd\n",
    "import numpy as np\n",
    "import seaborn as sns\n",
    "import torch\n",
    "import torch.nn as nn\n",
    "from matplotlib import pyplot as plt\n",
    "import torch.optim as optim\n",
    "import imblearn\n",
    "from imblearn.over_sampling import SMOTE, RandomOverSampler\n",
    "from sklearn.model_selection import train_test_split\n",
    "import matplotlib.pyplot as plt\n",
    "%matplotlib inline"
   ]
  },
  {
   "cell_type": "code",
   "execution_count": 35,
   "metadata": {},
   "outputs": [
    {
     "data": {
      "text/html": [
       "<div>\n",
       "<style scoped>\n",
       "    .dataframe tbody tr th:only-of-type {\n",
       "        vertical-align: middle;\n",
       "    }\n",
       "\n",
       "    .dataframe tbody tr th {\n",
       "        vertical-align: top;\n",
       "    }\n",
       "\n",
       "    .dataframe thead th {\n",
       "        text-align: right;\n",
       "    }\n",
       "</style>\n",
       "<table border=\"1\" class=\"dataframe\">\n",
       "  <thead>\n",
       "    <tr style=\"text-align: right;\">\n",
       "      <th></th>\n",
       "      <th>fixed acidity</th>\n",
       "      <th>volatile acidity</th>\n",
       "      <th>citric acid</th>\n",
       "      <th>residual sugar</th>\n",
       "      <th>chlorides</th>\n",
       "      <th>free sulfur dioxide</th>\n",
       "      <th>total sulfur dioxide</th>\n",
       "      <th>density</th>\n",
       "      <th>pH</th>\n",
       "      <th>sulphates</th>\n",
       "      <th>alcohol</th>\n",
       "      <th>quality</th>\n",
       "    </tr>\n",
       "  </thead>\n",
       "  <tbody>\n",
       "    <tr>\n",
       "      <th>0</th>\n",
       "      <td>7.4</td>\n",
       "      <td>0.70</td>\n",
       "      <td>0.00</td>\n",
       "      <td>1.9</td>\n",
       "      <td>0.076</td>\n",
       "      <td>11.0</td>\n",
       "      <td>34.0</td>\n",
       "      <td>0.9978</td>\n",
       "      <td>3.51</td>\n",
       "      <td>0.56</td>\n",
       "      <td>9.4</td>\n",
       "      <td>5</td>\n",
       "    </tr>\n",
       "    <tr>\n",
       "      <th>1</th>\n",
       "      <td>7.8</td>\n",
       "      <td>0.88</td>\n",
       "      <td>0.00</td>\n",
       "      <td>2.6</td>\n",
       "      <td>0.098</td>\n",
       "      <td>25.0</td>\n",
       "      <td>67.0</td>\n",
       "      <td>0.9968</td>\n",
       "      <td>3.20</td>\n",
       "      <td>0.68</td>\n",
       "      <td>9.8</td>\n",
       "      <td>5</td>\n",
       "    </tr>\n",
       "    <tr>\n",
       "      <th>2</th>\n",
       "      <td>7.8</td>\n",
       "      <td>0.76</td>\n",
       "      <td>0.04</td>\n",
       "      <td>2.3</td>\n",
       "      <td>0.092</td>\n",
       "      <td>15.0</td>\n",
       "      <td>54.0</td>\n",
       "      <td>0.9970</td>\n",
       "      <td>3.26</td>\n",
       "      <td>0.65</td>\n",
       "      <td>9.8</td>\n",
       "      <td>5</td>\n",
       "    </tr>\n",
       "    <tr>\n",
       "      <th>3</th>\n",
       "      <td>11.2</td>\n",
       "      <td>0.28</td>\n",
       "      <td>0.56</td>\n",
       "      <td>1.9</td>\n",
       "      <td>0.075</td>\n",
       "      <td>17.0</td>\n",
       "      <td>60.0</td>\n",
       "      <td>0.9980</td>\n",
       "      <td>3.16</td>\n",
       "      <td>0.58</td>\n",
       "      <td>9.8</td>\n",
       "      <td>6</td>\n",
       "    </tr>\n",
       "    <tr>\n",
       "      <th>4</th>\n",
       "      <td>7.4</td>\n",
       "      <td>0.70</td>\n",
       "      <td>0.00</td>\n",
       "      <td>1.9</td>\n",
       "      <td>0.076</td>\n",
       "      <td>11.0</td>\n",
       "      <td>34.0</td>\n",
       "      <td>0.9978</td>\n",
       "      <td>3.51</td>\n",
       "      <td>0.56</td>\n",
       "      <td>9.4</td>\n",
       "      <td>5</td>\n",
       "    </tr>\n",
       "  </tbody>\n",
       "</table>\n",
       "</div>"
      ],
      "text/plain": [
       "   fixed acidity  volatile acidity  citric acid  residual sugar  chlorides  \\\n",
       "0            7.4              0.70         0.00             1.9      0.076   \n",
       "1            7.8              0.88         0.00             2.6      0.098   \n",
       "2            7.8              0.76         0.04             2.3      0.092   \n",
       "3           11.2              0.28         0.56             1.9      0.075   \n",
       "4            7.4              0.70         0.00             1.9      0.076   \n",
       "\n",
       "   free sulfur dioxide  total sulfur dioxide  density    pH  sulphates  \\\n",
       "0                 11.0                  34.0   0.9978  3.51       0.56   \n",
       "1                 25.0                  67.0   0.9968  3.20       0.68   \n",
       "2                 15.0                  54.0   0.9970  3.26       0.65   \n",
       "3                 17.0                  60.0   0.9980  3.16       0.58   \n",
       "4                 11.0                  34.0   0.9978  3.51       0.56   \n",
       "\n",
       "   alcohol  quality  \n",
       "0      9.4        5  \n",
       "1      9.8        5  \n",
       "2      9.8        5  \n",
       "3      9.8        6  \n",
       "4      9.4        5  "
      ]
     },
     "execution_count": 35,
     "metadata": {},
     "output_type": "execute_result"
    }
   ],
   "source": [
    "# Load dataset\n",
    "filename = \"./data/wine.csv\"\n",
    "df = pd.read_csv(filename)\n",
    "df = df.drop('index', axis=1)\n",
    "df.head()"
   ]
  },
  {
   "cell_type": "code",
   "execution_count": 36,
   "metadata": {},
   "outputs": [
    {
     "data": {
      "text/plain": [
       "array([[0, 0, 1, 0, 0, 0, 0],\n",
       "       [0, 0, 1, 0, 0, 0, 0],\n",
       "       [0, 0, 1, 0, 0, 0, 0],\n",
       "       [0, 0, 0, 1, 0, 0, 0],\n",
       "       [0, 0, 1, 0, 0, 0, 0]], dtype=uint8)"
      ]
     },
     "execution_count": 36,
     "metadata": {},
     "output_type": "execute_result"
    }
   ],
   "source": [
    "# Creating a test/train split\n",
    "train_test_split_fraction = 0.80\n",
    "split_index = int(df.shape[0] * train_test_split_fraction)\n",
    "df_train = df[:split_index]\n",
    "df_test = df[split_index:]\n",
    "\n",
    "target = pd.get_dummies(df['quality']).values # One hot encode\n",
    "target[:5]"
   ]
  },
  {
   "cell_type": "code",
   "execution_count": 37,
   "metadata": {},
   "outputs": [
    {
     "name": "stdout",
     "output_type": "stream",
     "text": [
      "(5197, 11)\n",
      "(1300, 11)\n",
      "(5197, 7)\n",
      "(1300, 7)\n"
     ]
    }
   ],
   "source": [
    "# Selecting the features and the target\n",
    "X_train = df_train.drop('quality', axis = 1).values\n",
    "X_test = df_test.drop('quality', axis = 1).values\n",
    "\n",
    "y_train = target[:split_index]\n",
    "y_test = target[split_index:]\n",
    "print(X_train.shape)\n",
    "print(X_test.shape)\n",
    "print(y_train.shape)\n",
    "print(y_test.shape)"
   ]
  },
  {
   "cell_type": "code",
   "execution_count": 38,
   "metadata": {},
   "outputs": [],
   "source": [
    "#change the type\n",
    "X_train = X_train.astype('float32')\n",
    "y_train = y_train.astype('float32')\n",
    "X_test = X_test.astype('float32')\n",
    "y_test = y_test.astype('float32')"
   ]
  },
  {
   "cell_type": "code",
   "execution_count": 39,
   "metadata": {},
   "outputs": [],
   "source": [
    "#transform into pytorch\n",
    "X_train = torch.tensor(X_train)   \n",
    "y_train = torch.tensor(y_train)   \n",
    "X_test = torch.tensor(X_test)   \n",
    "y_test = torch.tensor(y_test)"
   ]
  },
  {
   "cell_type": "code",
   "execution_count": 40,
   "metadata": {},
   "outputs": [
    {
     "data": {
      "text/plain": [
       "7"
      ]
     },
     "execution_count": 40,
     "metadata": {},
     "output_type": "execute_result"
    }
   ],
   "source": [
    "# the neural network architecture of our baseline\n",
    "nb_hidden_neurons = 200\n",
    "nb_classes = len(pd.unique(df['quality']))\n",
    "nb_classes"
   ]
  },
  {
   "cell_type": "code",
   "execution_count": 58,
   "metadata": {},
   "outputs": [],
   "source": [
    "class Network(nn.Module):\n",
    "\n",
    "    def __init__(self, nb_features):    \n",
    "        \"\"\"Here we define the layers\n",
    "        \"\"\"\n",
    "\n",
    "        super().__init__()\n",
    "        \n",
    "        self.layer_1 = nn.Linear(nb_features,nb_hidden_neurons)  \n",
    "        self.layer_2 = nn.Linear(nb_hidden_neurons,nb_hidden_neurons) \n",
    "        self.layer_3 = nn.Linear(nb_hidden_neurons,nb_classes) \n",
    "        \n",
    "        \n",
    "\n",
    "    def forward(self,x):   #forward pass of the neural network learning process\n",
    "        \"\"\"Here we combine the layers\n",
    "        ReLU activation function for the first layers \n",
    "        Softmax activation function for the last layer\n",
    "        \"\"\"\n",
    "        \n",
    "        activation_function = nn.ReLU() \n",
    "        last_layer_activation = nn.Softmax(dim=1)\n",
    "        \n",
    "        output_first_layer = activation_function(self.layer_1(x)) \n",
    "        output_second_layer = activation_function(self.layer_2(output_first_layer)) \n",
    "        prediction = last_layer_activation(self.layer_3(output_second_layer))\n",
    "        return prediction"
   ]
  },
  {
   "cell_type": "code",
   "execution_count": 59,
   "metadata": {},
   "outputs": [
    {
     "data": {
      "text/plain": [
       "Network(\n",
       "  (layer_1): Linear(in_features=11, out_features=200, bias=True)\n",
       "  (layer_2): Linear(in_features=200, out_features=200, bias=True)\n",
       "  (layer_3): Linear(in_features=200, out_features=7, bias=True)\n",
       ")"
      ]
     },
     "execution_count": 59,
     "metadata": {},
     "output_type": "execute_result"
    }
   ],
   "source": [
    "my_nn = Network(nb_features=X_train.shape[1])\n",
    "my_nn"
   ]
  },
  {
   "cell_type": "code",
   "execution_count": 60,
   "metadata": {},
   "outputs": [],
   "source": [
    "import torch.optim\n",
    "# we define the criterion by which the cost is calculated, \n",
    "    #our learning rate and our optimizer, MSELoss, 0.001 and Adam, respectiely.\n",
    "criterion = nn.MSELoss()    #criterion = loss\n",
    "learning_rate = 0.001       \n",
    "optimizer = optim.Adam(my_nn.parameters(), lr=learning_rate ) #Adam optimizer "
   ]
  },
  {
   "cell_type": "code",
   "execution_count": 61,
   "metadata": {},
   "outputs": [],
   "source": [
    "#training process\n",
    "def training(batch_size : int, nb_steps_loss_sum : int):\n",
    "    \"\"\" Train the neural network, feeding it `batch_size` at a time\n",
    "    and saving statistics every `nb_steps_loss_sum` steps.\n",
    "    \n",
    "    Arguments:\n",
    "    \n",
    "    - batch_size [int] : the number of input samples at each training step (called a batch)\n",
    "    - nb_steps_loss_sum [int] : the number of batches before saving the loss for plotting\n",
    "    \n",
    "    Returns:\n",
    "    - loss_list : [List[double]] : value of the loss every `nb_steps_loss_sum` steps\n",
    "    \"\"\"\n",
    "\n",
    "    loss_list = []\n",
    "    running_loss = 0\n",
    "    batch_nb = 0\n",
    "\n",
    "    for epoch in range(0,50): # Number of times to iterate through the complete dataset\n",
    "        for idx in range(0, X_train.shape[0], batch_size):  \n",
    "            \n",
    "            # To Get input and output\n",
    "            input_batch = X_train[idx:idx + batch_size]\n",
    "            target = y_train[idx:idx + batch_size]\n",
    "#             print(target)\n",
    "            \n",
    "            optimizer.zero_grad() # - zero gradient buffers\n",
    "            outputs =  my_nn.forward(input_batch) # - to compute the forward pass\n",
    "#             print(outputs)\n",
    "            loss = criterion(outputs,target) # - to compute the loss\n",
    "            loss.backward() # - backpropagate\n",
    "            optimizer.step() # - to do a step\n",
    "          \n",
    "            \n",
    "            # Save the loss every `running_loss_steps` batches\n",
    "            running_loss += loss.item()\n",
    "            save_loss_condition = batch_nb % nb_steps_loss_sum == (nb_steps_loss_sum - 1)\n",
    "            if save_loss_condition:    \n",
    "                loss_list.append(running_loss)\n",
    "                running_loss = 0.0\n",
    "\n",
    "\n",
    "            batch_nb+= 1\n",
    "        \n",
    "    return loss_list\n"
   ]
  },
  {
   "cell_type": "code",
   "execution_count": 62,
   "metadata": {},
   "outputs": [
    {
     "data": {
      "image/png": "[encoded data removed]",
      "text/plain": [
       "<Figure size 432x288 with 1 Axes>"
      ]
     },
     "metadata": {
      "needs_background": "light"
     },
     "output_type": "display_data"
    }
   ],
   "source": [
    "nb_steps_loss_sum = 1\n",
    "loss = training(batch_size=30, nb_steps_loss_sum=nb_steps_loss_sum)\n",
    "\n",
    "# Plotting the loss over training\n",
    "plt.figure()\n",
    "plt.plot(range(0, len(loss)), loss)\n",
    "plt.xlabel(f\"Batches/{nb_steps_loss_sum}\")\n",
    "plt.ylabel(\"Loss\")\n",
    "plt.title(\"Training loss\")\n",
    "plt.show()\n",
    "plt.close()"
   ]
  },
  {
   "cell_type": "code",
   "execution_count": 65,
   "metadata": {},
   "outputs": [],
   "source": [
    "def computeScore(X, y):\n",
    "    correct = 0\n",
    "    total = y.shape[0]   #we are doing prediction on all items in one shot\n",
    "    batch_size = 30   # 30 forward pass before a backward\n",
    "    with torch.no_grad():\n",
    "        # TO COMPLETE:\n",
    "    \n",
    "        # - compute the prediction of the neural network\n",
    "        output = my_nn.forward(X)  \n",
    "        # - get the max of the prediction (e.g. get the most likely class) (to do)\n",
    "        # This can be done using `torch.max`.\n",
    "        _,predicted = torch.max(output,1)    #predicted = predicted index of the max value and '_' for the max value, we could give another name to the variable (ex: a) instead of '_'...only working with tuple like this output : https://pytorch.org/docs/stable/generated/torch.max.html\n",
    "        # - get the max of the target (e.g. correct class)\n",
    "        _,target_pred = torch.max(y,1)\n",
    "\n",
    "        # - check if the prediction is correct and count it\n",
    "#             correct += (predicted == target_pred).sum().item() \n",
    "\n",
    "#         print(predicted)\n",
    "#         print(target_pred)\n",
    "\n",
    "        for idx in range(0, X.shape[0]):\n",
    "            if predicted[idx] == target_pred[idx]:\n",
    "                correct += 1\n",
    "\n",
    "        # - count every sample\n",
    "\n",
    "    accuracy = correct/total * 100\n",
    "    print(f\"Accuracy of the network on the {total} samples: {accuracy:.2f}%\")\n",
    "    "
   ]
  },
  {
   "cell_type": "code",
   "execution_count": 66,
   "metadata": {},
   "outputs": [
    {
     "name": "stdout",
     "output_type": "stream",
     "text": [
      "Accuracy of the network on the 5197 samples: 51.93%\n",
      "Accuracy of the network on the 1300 samples: 42.23%\n"
     ]
    }
   ],
   "source": [
    "computeScore(X_train, y_train)\n",
    "computeScore(X_test, y_test)"
   ]
  },
  {
   "cell_type": "code",
   "execution_count": 53,
   "metadata": {},
   "outputs": [],
   "source": [
    "class Network(nn.Module):\n",
    "\n",
    "    def __init__(self, nb_features, nb_hidden_neurons):    \n",
    "        \"\"\"Here we define the layers\n",
    "        \"\"\"\n",
    "\n",
    "        super().__init__()\n",
    "        \n",
    "        self.layer_1 = nn.Linear(nb_features,nb_hidden_neurons)  \n",
    "        self.layer_2 = nn.Linear(nb_hidden_neurons,nb_hidden_neurons) \n",
    "        self.layer_last = nn.Linear(nb_hidden_neurons,nb_classes) \n",
    "        self.nb_hidden_neurons = nb_hidden_neurons\n",
    "        \n",
    "        \n",
    "\n",
    "    def forward(self,x, nb_hidden_layers, activation_function):   #forward pass of the neural network learning process\n",
    "        \"\"\"Here we combine the layers\n",
    "\n",
    "        \"\"\"\n",
    "        \n",
    "      \n",
    "        last_layer_activation = nn.Softmax()\n",
    "        \n",
    "        output_first_layer = activation_function(self.layer_1(x)) \n",
    "        output_hidden_layer = activation_function(self.layer_2(output_first_layer))\n",
    "        for i in range(1, nb_hidden_layers):\n",
    "            output_hidden_layer = activation_function(self.layer_2(output_hidden_layer))\n",
    "            \n",
    "        prediction = last_layer_activation(self.layer_last(output_hidden_layer))\n",
    "        return prediction"
   ]
  },
  {
   "cell_type": "code",
   "execution_count": 55,
   "metadata": {},
   "outputs": [],
   "source": [
    "#training process\n",
    "def training(config, checkpoint_dir=None):\n",
    "    \"\"\" Train the neural network, feeding it `batch_size` at a time\n",
    "    and saving statistics every `nb_steps_loss_sum` steps.\n",
    "    \n",
    "    Arguments:\n",
    "    \n",
    "    - batch_size [int] : the number of input samples at each training step (called a batch)\n",
    "    - nb_steps_loss_sum [int] : the number of batches before saving the loss for plotting\n",
    "    \n",
    "    Returns:\n",
    "    - loss_list : [List[double]] : value of the loss every `nb_steps_loss_sum` steps\n",
    "    \"\"\"\n",
    "    \n",
    "    nb_steps_loss_sum = 10\n",
    "    my_nn = Network(nb_features=X_train.shape[1], nb_hidden_neurons=config['hidden_neuron'])\n",
    "    loss_list = []\n",
    "    running_loss = 0\n",
    "    batch_nb = 0\n",
    "    \n",
    "    # we define the criterion by which the cost is calculated, \n",
    "        #our learning rate and our optimizer(Adam), MSELoss\n",
    "    \n",
    "    criterion = nn.MSELoss()              #criterion = loss\n",
    "    batch_size = config['batch_size']\n",
    "    learning_rate = config['lr']       \n",
    "    optimizer = optim.Adam(my_nn.parameters(), lr=learning_rate ) #Adam optimizer \n",
    "    \n",
    "\n",
    "    for epoch in range(0,config['epoch']):       # Number of times to iterate through the complete dataset\n",
    "        for idx in range(0, X_train.shape[0], batch_size):  \n",
    "            \n",
    "            # To Get input and output\n",
    "            input_batch = X_train[idx:idx + batch_size]\n",
    "            target = y_train[idx:idx + batch_size]\n",
    "#             print(target)\n",
    "            \n",
    "            optimizer.zero_grad()           # - zero gradient buffers\n",
    "            \n",
    "            y_pred =  my_nn(input_batch.float(), nb_hidden_layers = config['nb_layers'], activation_function = config['activation'] )    # - to compute the forward pass\n",
    "#             print(outputs)\n",
    "            \n",
    "            loss = criterion(y_pred,target.float())     # - to compute the loss\n",
    "            loss.backward()         # - backpropagate\n",
    "            optimizer.step()        # - to do a step\n",
    "          \n",
    "            \n",
    "            # Save the loss every `running_loss_steps` batches\n",
    "            running_loss += loss.item()\n",
    "            save_loss_condition = batch_nb % nb_steps_loss_sum == (nb_steps_loss_sum - 1)\n",
    "            if save_loss_condition:    \n",
    "                loss_list.append(running_loss)\n",
    "                running_loss = 0.0\n",
    "\n",
    "\n",
    "            batch_nb+= 1\n",
    "        \n",
    "    tune.report(mean_loss=abs(loss_list[len(loss_list)-1]))   #to take as the mean loss, the last element of the list_loss\n",
    "    #acc_train = test(X_train, y_train, config)\n",
    "    #acc_test = test(X_test, Y_test, config)\n",
    "    #tune.report(acc_train=acc_train, acc_test=acc_test)"
   ]
  },
  {
   "cell_type": "code",
   "execution_count": 54,
   "metadata": {},
   "outputs": [],
   "source": [
    "def test(X,y,config, checkpoint_dir=None):\n",
    "    my_nn = Network(nb_features=X_train.shape[1], nb_hidden_neurons=config['hidden_neuron'])\n",
    "    correct = 0\n",
    "    total = 0\n",
    "    batch_size = config['batch_size']\n",
    "    with torch.no_grad():\n",
    "        for idx in range(0, X.shape[0], batch_size):\n",
    "            \n",
    "            total +=1\n",
    "            \n",
    "            output = my_nn(X.float(), nb_hidden_layers = config['nb_layers'], activation_function = config['activation'] )\n",
    "            \n",
    "            predicted = torch.max(output, 1)\n",
    "            \n",
    "            target_pred = torch.max(y, 1)\n",
    "            \n",
    "            if predicted[1][idx] == target_pred[1][idx]:\n",
    "                correct += 1\n",
    "                \n",
    "    accuracy = correct/total\n",
    "    return accuracy"
   ]
  },
  {
   "cell_type": "code",
   "execution_count": 56,
   "metadata": {},
   "outputs": [],
   "source": [
    "import torch.optim\n",
    "import torch.nn as nn\n",
    "from ray import tune\n",
    "#!conda install -c conda-forge ray-tune"
   ]
  },
  {
   "cell_type": "code",
   "execution_count": 57,
   "metadata": {
    "scrolled": false
   },
   "outputs": [
    {
     "data": {
      "text/html": [
       "== Status ==<br>Memory usage on this node: 6.3/7.6 GiB<br>Using FIFO scheduling algorithm.<br>Resources requested: 2/4 CPUs, 0/0 GPUs, 0.0/2.59 GiB heap, 0.0/0.88 GiB objects<br>Result logdir: /home/abdellah/ray_results/training_2021-03-05_10-47-01<br>Number of trials: 1/12 (1 RUNNING)<br><table>\n",
       "<thead>\n",
       "<tr><th>Trial name          </th><th>status  </th><th>loc  </th><th>activation  </th><th style=\"text-align: right;\">  batch_size</th><th style=\"text-align: right;\">  epoch</th><th style=\"text-align: right;\">  hidden_neuron</th><th style=\"text-align: right;\">   lr</th><th style=\"text-align: right;\">  nb_layers</th></tr>\n",
       "</thead>\n",
       "<tbody>\n",
       "<tr><td>training_bc338_00000</td><td>RUNNING </td><td>     </td><td>SiLU()      </td><td style=\"text-align: right;\">          30</td><td style=\"text-align: right;\">     50</td><td style=\"text-align: right;\">            100</td><td style=\"text-align: right;\">0.001</td><td style=\"text-align: right;\">          2</td></tr>\n",
       "</tbody>\n",
       "</table><br><br>"
      ],
      "text/plain": [
       "<IPython.core.display.HTML object>"
      ]
     },
     "metadata": {},
     "output_type": "display_data"
    },
    {
     "name": "stderr",
     "output_type": "stream",
     "text": [
      "\u001b[2m\u001b[36m(pid=12391)\u001b[0m /home/abdellah/anaconda3/envs/pytorch/lib/python3.7/site-packages/ray/workers/default_worker.py:29: UserWarning: Implicit dimension choice for softmax has been deprecated. Change the call to include dim=X as an argument.\n",
      "\u001b[2m\u001b[36m(pid=12391)\u001b[0m   parser.add_argument(\n",
      "\u001b[2m\u001b[36m(pid=12391)\u001b[0m /home/abdellah/anaconda3/envs/pytorch/lib/python3.7/site-packages/torch/autograd/__init__.py:132: UserWarning: CUDA initialization: Found no NVIDIA driver on your system. Please check that you have an NVIDIA GPU and installed a driver from http://www.nvidia.com/Download/index.aspx (Triggered internally at  /opt/conda/conda-bld/pytorch_1603729047590/work/c10/cuda/CUDAFunctions.cpp:100.)\n",
      "\u001b[2m\u001b[36m(pid=12391)\u001b[0m   allow_unreachable=True)  # allow_unreachable flag\n",
      "\u001b[2m\u001b[36m(pid=12411)\u001b[0m /home/abdellah/anaconda3/envs/pytorch/lib/python3.7/site-packages/ray/workers/default_worker.py:29: UserWarning: Implicit dimension choice for softmax has been deprecated. Change the call to include dim=X as an argument.\n",
      "\u001b[2m\u001b[36m(pid=12411)\u001b[0m   parser.add_argument(\n",
      "\u001b[2m\u001b[36m(pid=12411)\u001b[0m /home/abdellah/anaconda3/envs/pytorch/lib/python3.7/site-packages/torch/autograd/__init__.py:132: UserWarning: CUDA initialization: Found no NVIDIA driver on your system. Please check that you have an NVIDIA GPU and installed a driver from http://www.nvidia.com/Download/index.aspx (Triggered internally at  /opt/conda/conda-bld/pytorch_1603729047590/work/c10/cuda/CUDAFunctions.cpp:100.)\n",
      "\u001b[2m\u001b[36m(pid=12411)\u001b[0m   allow_unreachable=True)  # allow_unreachable flag\n"
     ]
    },
    {
     "name": "stdout",
     "output_type": "stream",
     "text": [
      "Result for training_bc338_00000:\n",
      "  date: 2021-03-05_10-47-30\n",
      "  done: false\n",
      "  experiment_id: c4c99cc00d2143bf9bd2df57dbadf237\n",
      "  hostname: abdellah-Latitude-E7270\n",
      "  iterations_since_restore: 1\n",
      "  mean_loss: 0.7846741154789925\n",
      "  neg_mean_loss: -0.7846741154789925\n",
      "  node_ip: 192.168.1.21\n",
      "  pid: 12411\n",
      "  time_since_restore: 26.692108392715454\n",
      "  time_this_iter_s: 26.692108392715454\n",
      "  time_total_s: 26.692108392715454\n",
      "  timestamp: 1614937650\n",
      "  timesteps_since_restore: 0\n",
      "  training_iteration: 1\n",
      "  trial_id: bc338_00000\n",
      "  \n"
     ]
    },
    {
     "data": {
      "text/html": [
       "== Status ==<br>Memory usage on this node: 6.7/7.6 GiB<br>Using FIFO scheduling algorithm.<br>Resources requested: 4/4 CPUs, 0/0 GPUs, 0.0/2.59 GiB heap, 0.0/0.88 GiB objects<br>Result logdir: /home/abdellah/ray_results/training_2021-03-05_10-47-01<br>Number of trials: 3/12 (1 PENDING, 2 RUNNING)<br><table>\n",
       "<thead>\n",
       "<tr><th>Trial name          </th><th>status  </th><th>loc               </th><th>activation  </th><th style=\"text-align: right;\">  batch_size</th><th style=\"text-align: right;\">  epoch</th><th style=\"text-align: right;\">  hidden_neuron</th><th style=\"text-align: right;\">   lr</th><th style=\"text-align: right;\">  nb_layers</th><th style=\"text-align: right;\">    loss</th><th style=\"text-align: right;\">  iter</th><th style=\"text-align: right;\">  total time (s)</th><th style=\"text-align: right;\">  neg_mean_loss</th></tr>\n",
       "</thead>\n",
       "<tbody>\n",
       "<tr><td>training_bc338_00000</td><td>RUNNING </td><td>192.168.1.21:12411</td><td>SiLU()      </td><td style=\"text-align: right;\">          30</td><td style=\"text-align: right;\">     50</td><td style=\"text-align: right;\">            100</td><td style=\"text-align: right;\">0.001</td><td style=\"text-align: right;\">          2</td><td style=\"text-align: right;\">0.784674</td><td style=\"text-align: right;\">     1</td><td style=\"text-align: right;\">         26.6921</td><td style=\"text-align: right;\">      -0.784674</td></tr>\n",
       "<tr><td>training_bc338_00001</td><td>RUNNING </td><td>                  </td><td>ReLU()      </td><td style=\"text-align: right;\">          30</td><td style=\"text-align: right;\">     50</td><td style=\"text-align: right;\">            100</td><td style=\"text-align: right;\">0.001</td><td style=\"text-align: right;\">          2</td><td style=\"text-align: right;\">        </td><td style=\"text-align: right;\">      </td><td style=\"text-align: right;\">                </td><td style=\"text-align: right;\">               </td></tr>\n",
       "<tr><td>training_bc338_00002</td><td>PENDING </td><td>                  </td><td>SiLU()      </td><td style=\"text-align: right;\">          30</td><td style=\"text-align: right;\">     50</td><td style=\"text-align: right;\">            200</td><td style=\"text-align: right;\">0.001</td><td style=\"text-align: right;\">          2</td><td style=\"text-align: right;\">        </td><td style=\"text-align: right;\">      </td><td style=\"text-align: right;\">                </td><td style=\"text-align: right;\">               </td></tr>\n",
       "</tbody>\n",
       "</table><br><br>"
      ],
      "text/plain": [
       "<IPython.core.display.HTML object>"
      ]
     },
     "metadata": {},
     "output_type": "display_data"
    },
    {
     "name": "stderr",
     "output_type": "stream",
     "text": [
      "2021-03-05 10:47:30,503\tINFO logger.py:690 -- Removed the following hyperparameter values when logging to tensorboard: {'activation': SiLU()}\n"
     ]
    },
    {
     "name": "stdout",
     "output_type": "stream",
     "text": [
      "Result for training_bc338_00000:\n",
      "  date: 2021-03-05_10-47-30\n",
      "  done: true\n",
      "  experiment_id: c4c99cc00d2143bf9bd2df57dbadf237\n",
      "  experiment_tag: 0_activation=SiLU(),batch_size=30,epoch=50,hidden_neuron=100,lr=0.001,nb_layers=2\n",
      "  hostname: abdellah-Latitude-E7270\n",
      "  iterations_since_restore: 1\n",
      "  mean_loss: 0.7846741154789925\n",
      "  neg_mean_loss: -0.7846741154789925\n",
      "  node_ip: 192.168.1.21\n",
      "  pid: 12411\n",
      "  time_since_restore: 26.692108392715454\n",
      "  time_this_iter_s: 26.692108392715454\n",
      "  time_total_s: 26.692108392715454\n",
      "  timestamp: 1614937650\n",
      "  timesteps_since_restore: 0\n",
      "  training_iteration: 1\n",
      "  trial_id: bc338_00000\n",
      "  \n"
     ]
    },
    {
     "name": "stderr",
     "output_type": "stream",
     "text": [
      "2021-03-05 10:47:33,200\tINFO logger.py:690 -- Removed the following hyperparameter values when logging to tensorboard: {'activation': ReLU()}\n"
     ]
    },
    {
     "name": "stdout",
     "output_type": "stream",
     "text": [
      "Result for training_bc338_00001:\n",
      "  date: 2021-03-05_10-47-33\n",
      "  done: false\n",
      "  experiment_id: 128fa072e9d3419f8904e582f75e273b\n",
      "  hostname: abdellah-Latitude-E7270\n",
      "  iterations_since_restore: 1\n",
      "  mean_loss: 0.77602469176054\n",
      "  neg_mean_loss: -0.77602469176054\n",
      "  node_ip: 192.168.1.21\n",
      "  pid: 12391\n",
      "  time_since_restore: 29.627844095230103\n",
      "  time_this_iter_s: 29.627844095230103\n",
      "  time_total_s: 29.627844095230103\n",
      "  timestamp: 1614937653\n",
      "  timesteps_since_restore: 0\n",
      "  training_iteration: 1\n",
      "  trial_id: bc338_00001\n",
      "  \n",
      "Result for training_bc338_00001:\n",
      "  date: 2021-03-05_10-47-33\n",
      "  done: true\n",
      "  experiment_id: 128fa072e9d3419f8904e582f75e273b\n",
      "  experiment_tag: 1_activation=ReLU(),batch_size=30,epoch=50,hidden_neuron=100,lr=0.001,nb_layers=2\n",
      "  hostname: abdellah-Latitude-E7270\n",
      "  iterations_since_restore: 1\n",
      "  mean_loss: 0.77602469176054\n",
      "  neg_mean_loss: -0.77602469176054\n",
      "  node_ip: 192.168.1.21\n",
      "  pid: 12391\n",
      "  time_since_restore: 29.627844095230103\n",
      "  time_this_iter_s: 29.627844095230103\n",
      "  time_total_s: 29.627844095230103\n",
      "  timestamp: 1614937653\n",
      "  timesteps_since_restore: 0\n",
      "  training_iteration: 1\n",
      "  trial_id: bc338_00001\n",
      "  \n"
     ]
    },
    {
     "name": "stderr",
     "output_type": "stream",
     "text": [
      "\u001b[2m\u001b[36m(pid=12534)\u001b[0m /home/abdellah/anaconda3/envs/pytorch/lib/python3.7/site-packages/ray/workers/default_worker.py:29: UserWarning: Implicit dimension choice for softmax has been deprecated. Change the call to include dim=X as an argument.\n",
      "\u001b[2m\u001b[36m(pid=12534)\u001b[0m   parser.add_argument(\n",
      "\u001b[2m\u001b[36m(pid=12534)\u001b[0m /home/abdellah/anaconda3/envs/pytorch/lib/python3.7/site-packages/torch/autograd/__init__.py:132: UserWarning: CUDA initialization: Found no NVIDIA driver on your system. Please check that you have an NVIDIA GPU and installed a driver from http://www.nvidia.com/Download/index.aspx (Triggered internally at  /opt/conda/conda-bld/pytorch_1603729047590/work/c10/cuda/CUDAFunctions.cpp:100.)\n",
      "\u001b[2m\u001b[36m(pid=12534)\u001b[0m   allow_unreachable=True)  # allow_unreachable flag\n",
      "\u001b[2m\u001b[36m(pid=12559)\u001b[0m /home/abdellah/anaconda3/envs/pytorch/lib/python3.7/site-packages/ray/workers/default_worker.py:29: UserWarning: Implicit dimension choice for softmax has been deprecated. Change the call to include dim=X as an argument.\n",
      "\u001b[2m\u001b[36m(pid=12559)\u001b[0m   parser.add_argument(\n",
      "\u001b[2m\u001b[36m(pid=12559)\u001b[0m /home/abdellah/anaconda3/envs/pytorch/lib/python3.7/site-packages/torch/autograd/__init__.py:132: UserWarning: CUDA initialization: Found no NVIDIA driver on your system. Please check that you have an NVIDIA GPU and installed a driver from http://www.nvidia.com/Download/index.aspx (Triggered internally at  /opt/conda/conda-bld/pytorch_1603729047590/work/c10/cuda/CUDAFunctions.cpp:100.)\n",
      "\u001b[2m\u001b[36m(pid=12559)\u001b[0m   allow_unreachable=True)  # allow_unreachable flag\n"
     ]
    },
    {
     "name": "stdout",
     "output_type": "stream",
     "text": [
      "Result for training_bc338_00002:\n",
      "  date: 2021-03-05_10-48-15\n",
      "  done: false\n",
      "  experiment_id: d3d099a44b374078b78c4f1377ce9726\n",
      "  hostname: abdellah-Latitude-E7270\n",
      "  iterations_since_restore: 1\n",
      "  mean_loss: 0.7828299924731255\n",
      "  neg_mean_loss: -0.7828299924731255\n",
      "  node_ip: 192.168.1.21\n",
      "  pid: 12534\n",
      "  time_since_restore: 41.208709478378296\n",
      "  time_this_iter_s: 41.208709478378296\n",
      "  time_total_s: 41.208709478378296\n",
      "  timestamp: 1614937695\n",
      "  timesteps_since_restore: 0\n",
      "  training_iteration: 1\n",
      "  trial_id: bc338_00002\n",
      "  \n"
     ]
    },
    {
     "data": {
      "text/html": [
       "== Status ==<br>Memory usage on this node: 6.7/7.6 GiB<br>Using FIFO scheduling algorithm.<br>Resources requested: 4/4 CPUs, 0/0 GPUs, 0.0/2.59 GiB heap, 0.0/0.88 GiB objects<br>Result logdir: /home/abdellah/ray_results/training_2021-03-05_10-47-01<br>Number of trials: 5/12 (1 PENDING, 2 RUNNING, 2 TERMINATED)<br><table>\n",
       "<thead>\n",
       "<tr><th>Trial name          </th><th>status    </th><th>loc               </th><th>activation  </th><th style=\"text-align: right;\">  batch_size</th><th style=\"text-align: right;\">  epoch</th><th style=\"text-align: right;\">  hidden_neuron</th><th style=\"text-align: right;\">   lr</th><th style=\"text-align: right;\">  nb_layers</th><th style=\"text-align: right;\">    loss</th><th style=\"text-align: right;\">  iter</th><th style=\"text-align: right;\">  total time (s)</th><th style=\"text-align: right;\">  neg_mean_loss</th></tr>\n",
       "</thead>\n",
       "<tbody>\n",
       "<tr><td>training_bc338_00002</td><td>RUNNING   </td><td>192.168.1.21:12534</td><td>SiLU()      </td><td style=\"text-align: right;\">          30</td><td style=\"text-align: right;\">     50</td><td style=\"text-align: right;\">            200</td><td style=\"text-align: right;\">0.001</td><td style=\"text-align: right;\">          2</td><td style=\"text-align: right;\">0.78283 </td><td style=\"text-align: right;\">     1</td><td style=\"text-align: right;\">         41.2087</td><td style=\"text-align: right;\">      -0.78283 </td></tr>\n",
       "<tr><td>training_bc338_00003</td><td>RUNNING   </td><td>                  </td><td>ReLU()      </td><td style=\"text-align: right;\">          30</td><td style=\"text-align: right;\">     50</td><td style=\"text-align: right;\">            200</td><td style=\"text-align: right;\">0.001</td><td style=\"text-align: right;\">          2</td><td style=\"text-align: right;\">        </td><td style=\"text-align: right;\">      </td><td style=\"text-align: right;\">                </td><td style=\"text-align: right;\">               </td></tr>\n",
       "<tr><td>training_bc338_00004</td><td>PENDING   </td><td>                  </td><td>SiLU()      </td><td style=\"text-align: right;\">          30</td><td style=\"text-align: right;\">     50</td><td style=\"text-align: right;\">            100</td><td style=\"text-align: right;\">0.001</td><td style=\"text-align: right;\">          5</td><td style=\"text-align: right;\">        </td><td style=\"text-align: right;\">      </td><td style=\"text-align: right;\">                </td><td style=\"text-align: right;\">               </td></tr>\n",
       "<tr><td>training_bc338_00000</td><td>TERMINATED</td><td>                  </td><td>SiLU()      </td><td style=\"text-align: right;\">          30</td><td style=\"text-align: right;\">     50</td><td style=\"text-align: right;\">            100</td><td style=\"text-align: right;\">0.001</td><td style=\"text-align: right;\">          2</td><td style=\"text-align: right;\">0.784674</td><td style=\"text-align: right;\">     1</td><td style=\"text-align: right;\">         26.6921</td><td style=\"text-align: right;\">      -0.784674</td></tr>\n",
       "<tr><td>training_bc338_00001</td><td>TERMINATED</td><td>                  </td><td>ReLU()      </td><td style=\"text-align: right;\">          30</td><td style=\"text-align: right;\">     50</td><td style=\"text-align: right;\">            100</td><td style=\"text-align: right;\">0.001</td><td style=\"text-align: right;\">          2</td><td style=\"text-align: right;\">0.776025</td><td style=\"text-align: right;\">     1</td><td style=\"text-align: right;\">         29.6278</td><td style=\"text-align: right;\">      -0.776025</td></tr>\n",
       "</tbody>\n",
       "</table><br><br>"
      ],
      "text/plain": [
       "<IPython.core.display.HTML object>"
      ]
     },
     "metadata": {},
     "output_type": "display_data"
    },
    {
     "name": "stderr",
     "output_type": "stream",
     "text": [
      "2021-03-05 10:48:15,261\tINFO logger.py:690 -- Removed the following hyperparameter values when logging to tensorboard: {'activation': SiLU()}\n"
     ]
    },
    {
     "name": "stdout",
     "output_type": "stream",
     "text": [
      "Result for training_bc338_00002:\n",
      "  date: 2021-03-05_10-48-15\n",
      "  done: true\n",
      "  experiment_id: d3d099a44b374078b78c4f1377ce9726\n",
      "  experiment_tag: 2_activation=SiLU(),batch_size=30,epoch=50,hidden_neuron=200,lr=0.001,nb_layers=2\n",
      "  hostname: abdellah-Latitude-E7270\n",
      "  iterations_since_restore: 1\n",
      "  mean_loss: 0.7828299924731255\n",
      "  neg_mean_loss: -0.7828299924731255\n",
      "  node_ip: 192.168.1.21\n",
      "  pid: 12534\n",
      "  time_since_restore: 41.208709478378296\n",
      "  time_this_iter_s: 41.208709478378296\n",
      "  time_total_s: 41.208709478378296\n",
      "  timestamp: 1614937695\n",
      "  timesteps_since_restore: 0\n",
      "  training_iteration: 1\n",
      "  trial_id: bc338_00002\n",
      "  \n"
     ]
    },
    {
     "name": "stderr",
     "output_type": "stream",
     "text": [
      "\u001b[2m\u001b[36m(pid=12554)\u001b[0m /home/abdellah/anaconda3/envs/pytorch/lib/python3.7/site-packages/ray/workers/default_worker.py:29: UserWarning: Implicit dimension choice for softmax has been deprecated. Change the call to include dim=X as an argument.\n",
      "\u001b[2m\u001b[36m(pid=12554)\u001b[0m   parser.add_argument(\n",
      "\u001b[2m\u001b[36m(pid=12554)\u001b[0m /home/abdellah/anaconda3/envs/pytorch/lib/python3.7/site-packages/torch/autograd/__init__.py:132: UserWarning: CUDA initialization: Found no NVIDIA driver on your system. Please check that you have an NVIDIA GPU and installed a driver from http://www.nvidia.com/Download/index.aspx (Triggered internally at  /opt/conda/conda-bld/pytorch_1603729047590/work/c10/cuda/CUDAFunctions.cpp:100.)\n",
      "\u001b[2m\u001b[36m(pid=12554)\u001b[0m   allow_unreachable=True)  # allow_unreachable flag\n"
     ]
    },
    {
     "name": "stdout",
     "output_type": "stream",
     "text": [
      "Result for training_bc338_00003:\n",
      "  date: 2021-03-05_10-48-24\n",
      "  done: false\n",
      "  experiment_id: 356c8409c2ee4537a2fe73a932aa3dea\n",
      "  hostname: abdellah-Latitude-E7270\n",
      "  iterations_since_restore: 1\n",
      "  mean_loss: 0.7963929250836372\n",
      "  neg_mean_loss: -0.7963929250836372\n",
      "  node_ip: 192.168.1.21\n",
      "  pid: 12559\n",
      "  time_since_restore: 47.25187087059021\n",
      "  time_this_iter_s: 47.25187087059021\n",
      "  time_total_s: 47.25187087059021\n",
      "  timestamp: 1614937704\n",
      "  timesteps_since_restore: 0\n",
      "  training_iteration: 1\n",
      "  trial_id: bc338_00003\n",
      "  \n"
     ]
    },
    {
     "data": {
      "text/html": [
       "== Status ==<br>Memory usage on this node: 6.7/7.6 GiB<br>Using FIFO scheduling algorithm.<br>Resources requested: 4/4 CPUs, 0/0 GPUs, 0.0/2.59 GiB heap, 0.0/0.88 GiB objects<br>Result logdir: /home/abdellah/ray_results/training_2021-03-05_10-47-01<br>Number of trials: 6/12 (1 PENDING, 2 RUNNING, 3 TERMINATED)<br><table>\n",
       "<thead>\n",
       "<tr><th>Trial name          </th><th>status    </th><th>loc               </th><th>activation  </th><th style=\"text-align: right;\">  batch_size</th><th style=\"text-align: right;\">  epoch</th><th style=\"text-align: right;\">  hidden_neuron</th><th style=\"text-align: right;\">   lr</th><th style=\"text-align: right;\">  nb_layers</th><th style=\"text-align: right;\">    loss</th><th style=\"text-align: right;\">  iter</th><th style=\"text-align: right;\">  total time (s)</th><th style=\"text-align: right;\">  neg_mean_loss</th></tr>\n",
       "</thead>\n",
       "<tbody>\n",
       "<tr><td>training_bc338_00003</td><td>RUNNING   </td><td>192.168.1.21:12559</td><td>ReLU()      </td><td style=\"text-align: right;\">          30</td><td style=\"text-align: right;\">     50</td><td style=\"text-align: right;\">            200</td><td style=\"text-align: right;\">0.001</td><td style=\"text-align: right;\">          2</td><td style=\"text-align: right;\">0.796393</td><td style=\"text-align: right;\">     1</td><td style=\"text-align: right;\">         47.2519</td><td style=\"text-align: right;\">      -0.796393</td></tr>\n",
       "<tr><td>training_bc338_00004</td><td>RUNNING   </td><td>                  </td><td>SiLU()      </td><td style=\"text-align: right;\">          30</td><td style=\"text-align: right;\">     50</td><td style=\"text-align: right;\">            100</td><td style=\"text-align: right;\">0.001</td><td style=\"text-align: right;\">          5</td><td style=\"text-align: right;\">        </td><td style=\"text-align: right;\">      </td><td style=\"text-align: right;\">                </td><td style=\"text-align: right;\">               </td></tr>\n",
       "<tr><td>training_bc338_00005</td><td>PENDING   </td><td>                  </td><td>ReLU()      </td><td style=\"text-align: right;\">          30</td><td style=\"text-align: right;\">     50</td><td style=\"text-align: right;\">            100</td><td style=\"text-align: right;\">0.001</td><td style=\"text-align: right;\">          5</td><td style=\"text-align: right;\">        </td><td style=\"text-align: right;\">      </td><td style=\"text-align: right;\">                </td><td style=\"text-align: right;\">               </td></tr>\n",
       "<tr><td>training_bc338_00000</td><td>TERMINATED</td><td>                  </td><td>SiLU()      </td><td style=\"text-align: right;\">          30</td><td style=\"text-align: right;\">     50</td><td style=\"text-align: right;\">            100</td><td style=\"text-align: right;\">0.001</td><td style=\"text-align: right;\">          2</td><td style=\"text-align: right;\">0.784674</td><td style=\"text-align: right;\">     1</td><td style=\"text-align: right;\">         26.6921</td><td style=\"text-align: right;\">      -0.784674</td></tr>\n",
       "<tr><td>training_bc338_00001</td><td>TERMINATED</td><td>                  </td><td>ReLU()      </td><td style=\"text-align: right;\">          30</td><td style=\"text-align: right;\">     50</td><td style=\"text-align: right;\">            100</td><td style=\"text-align: right;\">0.001</td><td style=\"text-align: right;\">          2</td><td style=\"text-align: right;\">0.776025</td><td style=\"text-align: right;\">     1</td><td style=\"text-align: right;\">         29.6278</td><td style=\"text-align: right;\">      -0.776025</td></tr>\n",
       "<tr><td>training_bc338_00002</td><td>TERMINATED</td><td>                  </td><td>SiLU()      </td><td style=\"text-align: right;\">          30</td><td style=\"text-align: right;\">     50</td><td style=\"text-align: right;\">            200</td><td style=\"text-align: right;\">0.001</td><td style=\"text-align: right;\">          2</td><td style=\"text-align: right;\">0.78283 </td><td style=\"text-align: right;\">     1</td><td style=\"text-align: right;\">         41.2087</td><td style=\"text-align: right;\">      -0.78283 </td></tr>\n",
       "</tbody>\n",
       "</table><br><br>"
      ],
      "text/plain": [
       "<IPython.core.display.HTML object>"
      ]
     },
     "metadata": {},
     "output_type": "display_data"
    },
    {
     "name": "stderr",
     "output_type": "stream",
     "text": [
      "2021-03-05 10:48:24,592\tINFO logger.py:690 -- Removed the following hyperparameter values when logging to tensorboard: {'activation': ReLU()}\n"
     ]
    },
    {
     "name": "stdout",
     "output_type": "stream",
     "text": [
      "Result for training_bc338_00003:\n",
      "  date: 2021-03-05_10-48-24\n",
      "  done: true\n",
      "  experiment_id: 356c8409c2ee4537a2fe73a932aa3dea\n",
      "  experiment_tag: 3_activation=ReLU(),batch_size=30,epoch=50,hidden_neuron=200,lr=0.001,nb_layers=2\n",
      "  hostname: abdellah-Latitude-E7270\n",
      "  iterations_since_restore: 1\n",
      "  mean_loss: 0.7963929250836372\n",
      "  neg_mean_loss: -0.7963929250836372\n",
      "  node_ip: 192.168.1.21\n",
      "  pid: 12559\n",
      "  time_since_restore: 47.25187087059021\n",
      "  time_this_iter_s: 47.25187087059021\n",
      "  time_total_s: 47.25187087059021\n",
      "  timestamp: 1614937704\n",
      "  timesteps_since_restore: 0\n",
      "  training_iteration: 1\n",
      "  trial_id: bc338_00003\n",
      "  \n"
     ]
    },
    {
     "name": "stderr",
     "output_type": "stream",
     "text": [
      "\u001b[2m\u001b[36m(pid=12609)\u001b[0m /home/abdellah/anaconda3/envs/pytorch/lib/python3.7/site-packages/ray/workers/default_worker.py:29: UserWarning: Implicit dimension choice for softmax has been deprecated. Change the call to include dim=X as an argument.\n",
      "\u001b[2m\u001b[36m(pid=12609)\u001b[0m   parser.add_argument(\n",
      "\u001b[2m\u001b[36m(pid=12609)\u001b[0m /home/abdellah/anaconda3/envs/pytorch/lib/python3.7/site-packages/torch/autograd/__init__.py:132: UserWarning: CUDA initialization: Found no NVIDIA driver on your system. Please check that you have an NVIDIA GPU and installed a driver from http://www.nvidia.com/Download/index.aspx (Triggered internally at  /opt/conda/conda-bld/pytorch_1603729047590/work/c10/cuda/CUDAFunctions.cpp:100.)\n",
      "\u001b[2m\u001b[36m(pid=12609)\u001b[0m   allow_unreachable=True)  # allow_unreachable flag\n"
     ]
    },
    {
     "name": "stdout",
     "output_type": "stream",
     "text": [
      "Result for training_bc338_00004:\n",
      "  date: 2021-03-05_10-49-01\n",
      "  done: false\n",
      "  experiment_id: a68d82618a394eefaafd3528e007fd33\n",
      "  hostname: abdellah-Latitude-E7270\n",
      "  iterations_since_restore: 1\n",
      "  mean_loss: 0.8379068523645401\n",
      "  neg_mean_loss: -0.8379068523645401\n",
      "  node_ip: 192.168.1.21\n",
      "  pid: 12554\n",
      "  time_since_restore: 43.28405714035034\n",
      "  time_this_iter_s: 43.28405714035034\n",
      "  time_total_s: 43.28405714035034\n",
      "  timestamp: 1614937741\n",
      "  timesteps_since_restore: 0\n",
      "  training_iteration: 1\n",
      "  trial_id: bc338_00004\n",
      "  \n"
     ]
    },
    {
     "data": {
      "text/html": [
       "== Status ==<br>Memory usage on this node: 6.5/7.6 GiB<br>Using FIFO scheduling algorithm.<br>Resources requested: 4/4 CPUs, 0/0 GPUs, 0.0/2.59 GiB heap, 0.0/0.88 GiB objects<br>Result logdir: /home/abdellah/ray_results/training_2021-03-05_10-47-01<br>Number of trials: 7/12 (1 PENDING, 2 RUNNING, 4 TERMINATED)<br><table>\n",
       "<thead>\n",
       "<tr><th>Trial name          </th><th>status    </th><th>loc               </th><th>activation  </th><th style=\"text-align: right;\">  batch_size</th><th style=\"text-align: right;\">  epoch</th><th style=\"text-align: right;\">  hidden_neuron</th><th style=\"text-align: right;\">   lr</th><th style=\"text-align: right;\">  nb_layers</th><th style=\"text-align: right;\">    loss</th><th style=\"text-align: right;\">  iter</th><th style=\"text-align: right;\">  total time (s)</th><th style=\"text-align: right;\">  neg_mean_loss</th></tr>\n",
       "</thead>\n",
       "<tbody>\n",
       "<tr><td>training_bc338_00004</td><td>RUNNING   </td><td>192.168.1.21:12554</td><td>SiLU()      </td><td style=\"text-align: right;\">          30</td><td style=\"text-align: right;\">     50</td><td style=\"text-align: right;\">            100</td><td style=\"text-align: right;\">0.001</td><td style=\"text-align: right;\">          5</td><td style=\"text-align: right;\">0.837907</td><td style=\"text-align: right;\">     1</td><td style=\"text-align: right;\">         43.2841</td><td style=\"text-align: right;\">      -0.837907</td></tr>\n",
       "<tr><td>training_bc338_00005</td><td>RUNNING   </td><td>                  </td><td>ReLU()      </td><td style=\"text-align: right;\">          30</td><td style=\"text-align: right;\">     50</td><td style=\"text-align: right;\">            100</td><td style=\"text-align: right;\">0.001</td><td style=\"text-align: right;\">          5</td><td style=\"text-align: right;\">        </td><td style=\"text-align: right;\">      </td><td style=\"text-align: right;\">                </td><td style=\"text-align: right;\">               </td></tr>\n",
       "<tr><td>training_bc338_00006</td><td>PENDING   </td><td>                  </td><td>SiLU()      </td><td style=\"text-align: right;\">          30</td><td style=\"text-align: right;\">     50</td><td style=\"text-align: right;\">            200</td><td style=\"text-align: right;\">0.001</td><td style=\"text-align: right;\">          5</td><td style=\"text-align: right;\">        </td><td style=\"text-align: right;\">      </td><td style=\"text-align: right;\">                </td><td style=\"text-align: right;\">               </td></tr>\n",
       "<tr><td>training_bc338_00000</td><td>TERMINATED</td><td>                  </td><td>SiLU()      </td><td style=\"text-align: right;\">          30</td><td style=\"text-align: right;\">     50</td><td style=\"text-align: right;\">            100</td><td style=\"text-align: right;\">0.001</td><td style=\"text-align: right;\">          2</td><td style=\"text-align: right;\">0.784674</td><td style=\"text-align: right;\">     1</td><td style=\"text-align: right;\">         26.6921</td><td style=\"text-align: right;\">      -0.784674</td></tr>\n",
       "<tr><td>training_bc338_00001</td><td>TERMINATED</td><td>                  </td><td>ReLU()      </td><td style=\"text-align: right;\">          30</td><td style=\"text-align: right;\">     50</td><td style=\"text-align: right;\">            100</td><td style=\"text-align: right;\">0.001</td><td style=\"text-align: right;\">          2</td><td style=\"text-align: right;\">0.776025</td><td style=\"text-align: right;\">     1</td><td style=\"text-align: right;\">         29.6278</td><td style=\"text-align: right;\">      -0.776025</td></tr>\n",
       "<tr><td>training_bc338_00002</td><td>TERMINATED</td><td>                  </td><td>SiLU()      </td><td style=\"text-align: right;\">          30</td><td style=\"text-align: right;\">     50</td><td style=\"text-align: right;\">            200</td><td style=\"text-align: right;\">0.001</td><td style=\"text-align: right;\">          2</td><td style=\"text-align: right;\">0.78283 </td><td style=\"text-align: right;\">     1</td><td style=\"text-align: right;\">         41.2087</td><td style=\"text-align: right;\">      -0.78283 </td></tr>\n",
       "<tr><td>training_bc338_00003</td><td>TERMINATED</td><td>                  </td><td>ReLU()      </td><td style=\"text-align: right;\">          30</td><td style=\"text-align: right;\">     50</td><td style=\"text-align: right;\">            200</td><td style=\"text-align: right;\">0.001</td><td style=\"text-align: right;\">          2</td><td style=\"text-align: right;\">0.796393</td><td style=\"text-align: right;\">     1</td><td style=\"text-align: right;\">         47.2519</td><td style=\"text-align: right;\">      -0.796393</td></tr>\n",
       "</tbody>\n",
       "</table><br><br>"
      ],
      "text/plain": [
       "<IPython.core.display.HTML object>"
      ]
     },
     "metadata": {},
     "output_type": "display_data"
    },
    {
     "name": "stderr",
     "output_type": "stream",
     "text": [
      "2021-03-05 10:49:01,187\tINFO logger.py:690 -- Removed the following hyperparameter values when logging to tensorboard: {'activation': SiLU()}\n"
     ]
    },
    {
     "name": "stdout",
     "output_type": "stream",
     "text": [
      "Result for training_bc338_00004:\n",
      "  date: 2021-03-05_10-49-01\n",
      "  done: true\n",
      "  experiment_id: a68d82618a394eefaafd3528e007fd33\n",
      "  experiment_tag: 4_activation=SiLU(),batch_size=30,epoch=50,hidden_neuron=100,lr=0.001,nb_layers=5\n",
      "  hostname: abdellah-Latitude-E7270\n",
      "  iterations_since_restore: 1\n",
      "  mean_loss: 0.8379068523645401\n",
      "  neg_mean_loss: -0.8379068523645401\n",
      "  node_ip: 192.168.1.21\n",
      "  pid: 12554\n",
      "  time_since_restore: 43.28405714035034\n",
      "  time_this_iter_s: 43.28405714035034\n",
      "  time_total_s: 43.28405714035034\n",
      "  timestamp: 1614937741\n",
      "  timesteps_since_restore: 0\n",
      "  training_iteration: 1\n",
      "  trial_id: bc338_00004\n",
      "  \n"
     ]
    },
    {
     "name": "stderr",
     "output_type": "stream",
     "text": [
      "\u001b[2m\u001b[36m(pid=12645)\u001b[0m /home/abdellah/anaconda3/envs/pytorch/lib/python3.7/site-packages/ray/workers/default_worker.py:29: UserWarning: Implicit dimension choice for softmax has been deprecated. Change the call to include dim=X as an argument.\n",
      "\u001b[2m\u001b[36m(pid=12645)\u001b[0m   parser.add_argument(\n",
      "\u001b[2m\u001b[36m(pid=12645)\u001b[0m /home/abdellah/anaconda3/envs/pytorch/lib/python3.7/site-packages/torch/autograd/__init__.py:132: UserWarning: CUDA initialization: Found no NVIDIA driver on your system. Please check that you have an NVIDIA GPU and installed a driver from http://www.nvidia.com/Download/index.aspx (Triggered internally at  /opt/conda/conda-bld/pytorch_1603729047590/work/c10/cuda/CUDAFunctions.cpp:100.)\n",
      "\u001b[2m\u001b[36m(pid=12645)\u001b[0m   allow_unreachable=True)  # allow_unreachable flag\n"
     ]
    },
    {
     "name": "stdout",
     "output_type": "stream",
     "text": [
      "Result for training_bc338_00005:\n",
      "  date: 2021-03-05_10-49-12\n",
      "  done: false\n",
      "  experiment_id: 4a24dccb103b4882b1243a1b0d258cfa\n",
      "  hostname: abdellah-Latitude-E7270\n",
      "  iterations_since_restore: 1\n",
      "  mean_loss: 0.8234105184674263\n",
      "  neg_mean_loss: -0.8234105184674263\n",
      "  node_ip: 192.168.1.21\n",
      "  pid: 12609\n",
      "  time_since_restore: 44.94474172592163\n",
      "  time_this_iter_s: 44.94474172592163\n",
      "  time_total_s: 44.94474172592163\n",
      "  timestamp: 1614937752\n",
      "  timesteps_since_restore: 0\n",
      "  training_iteration: 1\n",
      "  trial_id: bc338_00005\n",
      "  \n"
     ]
    },
    {
     "data": {
      "text/html": [
       "== Status ==<br>Memory usage on this node: 6.6/7.6 GiB<br>Using FIFO scheduling algorithm.<br>Resources requested: 4/4 CPUs, 0/0 GPUs, 0.0/2.59 GiB heap, 0.0/0.88 GiB objects<br>Result logdir: /home/abdellah/ray_results/training_2021-03-05_10-47-01<br>Number of trials: 8/12 (1 PENDING, 2 RUNNING, 5 TERMINATED)<br><table>\n",
       "<thead>\n",
       "<tr><th>Trial name          </th><th>status    </th><th>loc               </th><th>activation  </th><th style=\"text-align: right;\">  batch_size</th><th style=\"text-align: right;\">  epoch</th><th style=\"text-align: right;\">  hidden_neuron</th><th style=\"text-align: right;\">   lr</th><th style=\"text-align: right;\">  nb_layers</th><th style=\"text-align: right;\">    loss</th><th style=\"text-align: right;\">  iter</th><th style=\"text-align: right;\">  total time (s)</th><th style=\"text-align: right;\">  neg_mean_loss</th></tr>\n",
       "</thead>\n",
       "<tbody>\n",
       "<tr><td>training_bc338_00005</td><td>RUNNING   </td><td>192.168.1.21:12609</td><td>ReLU()      </td><td style=\"text-align: right;\">          30</td><td style=\"text-align: right;\">     50</td><td style=\"text-align: right;\">            100</td><td style=\"text-align: right;\">0.001</td><td style=\"text-align: right;\">          5</td><td style=\"text-align: right;\">0.823411</td><td style=\"text-align: right;\">     1</td><td style=\"text-align: right;\">         44.9447</td><td style=\"text-align: right;\">      -0.823411</td></tr>\n",
       "<tr><td>training_bc338_00006</td><td>RUNNING   </td><td>                  </td><td>SiLU()      </td><td style=\"text-align: right;\">          30</td><td style=\"text-align: right;\">     50</td><td style=\"text-align: right;\">            200</td><td style=\"text-align: right;\">0.001</td><td style=\"text-align: right;\">          5</td><td style=\"text-align: right;\">        </td><td style=\"text-align: right;\">      </td><td style=\"text-align: right;\">                </td><td style=\"text-align: right;\">               </td></tr>\n",
       "<tr><td>training_bc338_00007</td><td>PENDING   </td><td>                  </td><td>ReLU()      </td><td style=\"text-align: right;\">          30</td><td style=\"text-align: right;\">     50</td><td style=\"text-align: right;\">            200</td><td style=\"text-align: right;\">0.001</td><td style=\"text-align: right;\">          5</td><td style=\"text-align: right;\">        </td><td style=\"text-align: right;\">      </td><td style=\"text-align: right;\">                </td><td style=\"text-align: right;\">               </td></tr>\n",
       "<tr><td>training_bc338_00000</td><td>TERMINATED</td><td>                  </td><td>SiLU()      </td><td style=\"text-align: right;\">          30</td><td style=\"text-align: right;\">     50</td><td style=\"text-align: right;\">            100</td><td style=\"text-align: right;\">0.001</td><td style=\"text-align: right;\">          2</td><td style=\"text-align: right;\">0.784674</td><td style=\"text-align: right;\">     1</td><td style=\"text-align: right;\">         26.6921</td><td style=\"text-align: right;\">      -0.784674</td></tr>\n",
       "<tr><td>training_bc338_00001</td><td>TERMINATED</td><td>                  </td><td>ReLU()      </td><td style=\"text-align: right;\">          30</td><td style=\"text-align: right;\">     50</td><td style=\"text-align: right;\">            100</td><td style=\"text-align: right;\">0.001</td><td style=\"text-align: right;\">          2</td><td style=\"text-align: right;\">0.776025</td><td style=\"text-align: right;\">     1</td><td style=\"text-align: right;\">         29.6278</td><td style=\"text-align: right;\">      -0.776025</td></tr>\n",
       "<tr><td>training_bc338_00002</td><td>TERMINATED</td><td>                  </td><td>SiLU()      </td><td style=\"text-align: right;\">          30</td><td style=\"text-align: right;\">     50</td><td style=\"text-align: right;\">            200</td><td style=\"text-align: right;\">0.001</td><td style=\"text-align: right;\">          2</td><td style=\"text-align: right;\">0.78283 </td><td style=\"text-align: right;\">     1</td><td style=\"text-align: right;\">         41.2087</td><td style=\"text-align: right;\">      -0.78283 </td></tr>\n",
       "<tr><td>training_bc338_00003</td><td>TERMINATED</td><td>                  </td><td>ReLU()      </td><td style=\"text-align: right;\">          30</td><td style=\"text-align: right;\">     50</td><td style=\"text-align: right;\">            200</td><td style=\"text-align: right;\">0.001</td><td style=\"text-align: right;\">          2</td><td style=\"text-align: right;\">0.796393</td><td style=\"text-align: right;\">     1</td><td style=\"text-align: right;\">         47.2519</td><td style=\"text-align: right;\">      -0.796393</td></tr>\n",
       "<tr><td>training_bc338_00004</td><td>TERMINATED</td><td>                  </td><td>SiLU()      </td><td style=\"text-align: right;\">          30</td><td style=\"text-align: right;\">     50</td><td style=\"text-align: right;\">            100</td><td style=\"text-align: right;\">0.001</td><td style=\"text-align: right;\">          5</td><td style=\"text-align: right;\">0.837907</td><td style=\"text-align: right;\">     1</td><td style=\"text-align: right;\">         43.2841</td><td style=\"text-align: right;\">      -0.837907</td></tr>\n",
       "</tbody>\n",
       "</table><br><br>"
      ],
      "text/plain": [
       "<IPython.core.display.HTML object>"
      ]
     },
     "metadata": {},
     "output_type": "display_data"
    },
    {
     "name": "stderr",
     "output_type": "stream",
     "text": [
      "2021-03-05 10:49:12,145\tINFO logger.py:690 -- Removed the following hyperparameter values when logging to tensorboard: {'activation': ReLU()}\n"
     ]
    },
    {
     "name": "stdout",
     "output_type": "stream",
     "text": [
      "Result for training_bc338_00005:\n",
      "  date: 2021-03-05_10-49-12\n",
      "  done: true\n",
      "  experiment_id: 4a24dccb103b4882b1243a1b0d258cfa\n",
      "  experiment_tag: 5_activation=ReLU(),batch_size=30,epoch=50,hidden_neuron=100,lr=0.001,nb_layers=5\n",
      "  hostname: abdellah-Latitude-E7270\n",
      "  iterations_since_restore: 1\n",
      "  mean_loss: 0.8234105184674263\n",
      "  neg_mean_loss: -0.8234105184674263\n",
      "  node_ip: 192.168.1.21\n",
      "  pid: 12609\n",
      "  time_since_restore: 44.94474172592163\n",
      "  time_this_iter_s: 44.94474172592163\n",
      "  time_total_s: 44.94474172592163\n",
      "  timestamp: 1614937752\n",
      "  timesteps_since_restore: 0\n",
      "  training_iteration: 1\n",
      "  trial_id: bc338_00005\n",
      "  \n"
     ]
    },
    {
     "name": "stderr",
     "output_type": "stream",
     "text": [
      "\u001b[2m\u001b[36m(pid=12670)\u001b[0m /home/abdellah/anaconda3/envs/pytorch/lib/python3.7/site-packages/ray/workers/default_worker.py:29: UserWarning: Implicit dimension choice for softmax has been deprecated. Change the call to include dim=X as an argument.\n",
      "\u001b[2m\u001b[36m(pid=12670)\u001b[0m   parser.add_argument(\n",
      "\u001b[2m\u001b[36m(pid=12670)\u001b[0m /home/abdellah/anaconda3/envs/pytorch/lib/python3.7/site-packages/torch/autograd/__init__.py:132: UserWarning: CUDA initialization: Found no NVIDIA driver on your system. Please check that you have an NVIDIA GPU and installed a driver from http://www.nvidia.com/Download/index.aspx (Triggered internally at  /opt/conda/conda-bld/pytorch_1603729047590/work/c10/cuda/CUDAFunctions.cpp:100.)\n",
      "\u001b[2m\u001b[36m(pid=12670)\u001b[0m   allow_unreachable=True)  # allow_unreachable flag\n"
     ]
    },
    {
     "name": "stdout",
     "output_type": "stream",
     "text": [
      "Result for training_bc338_00006:\n",
      "  date: 2021-03-05_10-50-02\n",
      "  done: false\n",
      "  experiment_id: a1e9fa33faa94cfb8f7012c87987a140\n",
      "  hostname: abdellah-Latitude-E7270\n",
      "  iterations_since_restore: 1\n",
      "  mean_loss: 0.8313305750489235\n",
      "  neg_mean_loss: -0.8313305750489235\n",
      "  node_ip: 192.168.1.21\n",
      "  pid: 12645\n",
      "  time_since_restore: 58.71076250076294\n",
      "  time_this_iter_s: 58.71076250076294\n",
      "  time_total_s: 58.71076250076294\n",
      "  timestamp: 1614937802\n",
      "  timesteps_since_restore: 0\n",
      "  training_iteration: 1\n",
      "  trial_id: bc338_00006\n",
      "  \n"
     ]
    },
    {
     "data": {
      "text/html": [
       "== Status ==<br>Memory usage on this node: 6.6/7.6 GiB<br>Using FIFO scheduling algorithm.<br>Resources requested: 4/4 CPUs, 0/0 GPUs, 0.0/2.59 GiB heap, 0.0/0.88 GiB objects<br>Result logdir: /home/abdellah/ray_results/training_2021-03-05_10-47-01<br>Number of trials: 9/12 (1 PENDING, 2 RUNNING, 6 TERMINATED)<br><table>\n",
       "<thead>\n",
       "<tr><th>Trial name          </th><th>status    </th><th>loc               </th><th>activation  </th><th style=\"text-align: right;\">  batch_size</th><th style=\"text-align: right;\">  epoch</th><th style=\"text-align: right;\">  hidden_neuron</th><th style=\"text-align: right;\">   lr</th><th style=\"text-align: right;\">  nb_layers</th><th style=\"text-align: right;\">    loss</th><th style=\"text-align: right;\">  iter</th><th style=\"text-align: right;\">  total time (s)</th><th style=\"text-align: right;\">  neg_mean_loss</th></tr>\n",
       "</thead>\n",
       "<tbody>\n",
       "<tr><td>training_bc338_00006</td><td>RUNNING   </td><td>192.168.1.21:12645</td><td>SiLU()      </td><td style=\"text-align: right;\">          30</td><td style=\"text-align: right;\">     50</td><td style=\"text-align: right;\">            200</td><td style=\"text-align: right;\">0.001</td><td style=\"text-align: right;\">          5</td><td style=\"text-align: right;\">0.831331</td><td style=\"text-align: right;\">     1</td><td style=\"text-align: right;\">         58.7108</td><td style=\"text-align: right;\">      -0.831331</td></tr>\n",
       "<tr><td>training_bc338_00007</td><td>RUNNING   </td><td>                  </td><td>ReLU()      </td><td style=\"text-align: right;\">          30</td><td style=\"text-align: right;\">     50</td><td style=\"text-align: right;\">            200</td><td style=\"text-align: right;\">0.001</td><td style=\"text-align: right;\">          5</td><td style=\"text-align: right;\">        </td><td style=\"text-align: right;\">      </td><td style=\"text-align: right;\">                </td><td style=\"text-align: right;\">               </td></tr>\n",
       "<tr><td>training_bc338_00008</td><td>PENDING   </td><td>                  </td><td>SiLU()      </td><td style=\"text-align: right;\">          30</td><td style=\"text-align: right;\">     50</td><td style=\"text-align: right;\">            100</td><td style=\"text-align: right;\">0.001</td><td style=\"text-align: right;\">         10</td><td style=\"text-align: right;\">        </td><td style=\"text-align: right;\">      </td><td style=\"text-align: right;\">                </td><td style=\"text-align: right;\">               </td></tr>\n",
       "<tr><td>training_bc338_00000</td><td>TERMINATED</td><td>                  </td><td>SiLU()      </td><td style=\"text-align: right;\">          30</td><td style=\"text-align: right;\">     50</td><td style=\"text-align: right;\">            100</td><td style=\"text-align: right;\">0.001</td><td style=\"text-align: right;\">          2</td><td style=\"text-align: right;\">0.784674</td><td style=\"text-align: right;\">     1</td><td style=\"text-align: right;\">         26.6921</td><td style=\"text-align: right;\">      -0.784674</td></tr>\n",
       "<tr><td>training_bc338_00001</td><td>TERMINATED</td><td>                  </td><td>ReLU()      </td><td style=\"text-align: right;\">          30</td><td style=\"text-align: right;\">     50</td><td style=\"text-align: right;\">            100</td><td style=\"text-align: right;\">0.001</td><td style=\"text-align: right;\">          2</td><td style=\"text-align: right;\">0.776025</td><td style=\"text-align: right;\">     1</td><td style=\"text-align: right;\">         29.6278</td><td style=\"text-align: right;\">      -0.776025</td></tr>\n",
       "<tr><td>training_bc338_00002</td><td>TERMINATED</td><td>                  </td><td>SiLU()      </td><td style=\"text-align: right;\">          30</td><td style=\"text-align: right;\">     50</td><td style=\"text-align: right;\">            200</td><td style=\"text-align: right;\">0.001</td><td style=\"text-align: right;\">          2</td><td style=\"text-align: right;\">0.78283 </td><td style=\"text-align: right;\">     1</td><td style=\"text-align: right;\">         41.2087</td><td style=\"text-align: right;\">      -0.78283 </td></tr>\n",
       "<tr><td>training_bc338_00003</td><td>TERMINATED</td><td>                  </td><td>ReLU()      </td><td style=\"text-align: right;\">          30</td><td style=\"text-align: right;\">     50</td><td style=\"text-align: right;\">            200</td><td style=\"text-align: right;\">0.001</td><td style=\"text-align: right;\">          2</td><td style=\"text-align: right;\">0.796393</td><td style=\"text-align: right;\">     1</td><td style=\"text-align: right;\">         47.2519</td><td style=\"text-align: right;\">      -0.796393</td></tr>\n",
       "<tr><td>training_bc338_00004</td><td>TERMINATED</td><td>                  </td><td>SiLU()      </td><td style=\"text-align: right;\">          30</td><td style=\"text-align: right;\">     50</td><td style=\"text-align: right;\">            100</td><td style=\"text-align: right;\">0.001</td><td style=\"text-align: right;\">          5</td><td style=\"text-align: right;\">0.837907</td><td style=\"text-align: right;\">     1</td><td style=\"text-align: right;\">         43.2841</td><td style=\"text-align: right;\">      -0.837907</td></tr>\n",
       "<tr><td>training_bc338_00005</td><td>TERMINATED</td><td>                  </td><td>ReLU()      </td><td style=\"text-align: right;\">          30</td><td style=\"text-align: right;\">     50</td><td style=\"text-align: right;\">            100</td><td style=\"text-align: right;\">0.001</td><td style=\"text-align: right;\">          5</td><td style=\"text-align: right;\">0.823411</td><td style=\"text-align: right;\">     1</td><td style=\"text-align: right;\">         44.9447</td><td style=\"text-align: right;\">      -0.823411</td></tr>\n",
       "</tbody>\n",
       "</table><br><br>"
      ],
      "text/plain": [
       "<IPython.core.display.HTML object>"
      ]
     },
     "metadata": {},
     "output_type": "display_data"
    },
    {
     "name": "stderr",
     "output_type": "stream",
     "text": [
      "2021-03-05 10:50:02,853\tINFO logger.py:690 -- Removed the following hyperparameter values when logging to tensorboard: {'activation': SiLU()}\n"
     ]
    },
    {
     "name": "stdout",
     "output_type": "stream",
     "text": [
      "Result for training_bc338_00006:\n",
      "  date: 2021-03-05_10-50-02\n",
      "  done: true\n",
      "  experiment_id: a1e9fa33faa94cfb8f7012c87987a140\n",
      "  experiment_tag: 6_activation=SiLU(),batch_size=30,epoch=50,hidden_neuron=200,lr=0.001,nb_layers=5\n",
      "  hostname: abdellah-Latitude-E7270\n",
      "  iterations_since_restore: 1\n",
      "  mean_loss: 0.8313305750489235\n",
      "  neg_mean_loss: -0.8313305750489235\n",
      "  node_ip: 192.168.1.21\n",
      "  pid: 12645\n",
      "  time_since_restore: 58.71076250076294\n",
      "  time_this_iter_s: 58.71076250076294\n",
      "  time_total_s: 58.71076250076294\n",
      "  timestamp: 1614937802\n",
      "  timesteps_since_restore: 0\n",
      "  training_iteration: 1\n",
      "  trial_id: bc338_00006\n",
      "  \n"
     ]
    },
    {
     "name": "stderr",
     "output_type": "stream",
     "text": [
      "\u001b[2m\u001b[36m(pid=12709)\u001b[0m /home/abdellah/anaconda3/envs/pytorch/lib/python3.7/site-packages/ray/workers/default_worker.py:29: UserWarning: Implicit dimension choice for softmax has been deprecated. Change the call to include dim=X as an argument.\n",
      "\u001b[2m\u001b[36m(pid=12709)\u001b[0m   parser.add_argument(\n",
      "\u001b[2m\u001b[36m(pid=12709)\u001b[0m /home/abdellah/anaconda3/envs/pytorch/lib/python3.7/site-packages/torch/autograd/__init__.py:132: UserWarning: CUDA initialization: Found no NVIDIA driver on your system. Please check that you have an NVIDIA GPU and installed a driver from http://www.nvidia.com/Download/index.aspx (Triggered internally at  /opt/conda/conda-bld/pytorch_1603729047590/work/c10/cuda/CUDAFunctions.cpp:100.)\n",
      "\u001b[2m\u001b[36m(pid=12709)\u001b[0m   allow_unreachable=True)  # allow_unreachable flag\n"
     ]
    },
    {
     "name": "stdout",
     "output_type": "stream",
     "text": [
      "Result for training_bc338_00007:\n",
      "  date: 2021-03-05_10-50-24\n",
      "  done: false\n",
      "  experiment_id: 013f93c9bc9941b99a76a63a77f8ffce\n",
      "  hostname: abdellah-Latitude-E7270\n",
      "  iterations_since_restore: 1\n",
      "  mean_loss: 0.8444036841392517\n",
      "  neg_mean_loss: -0.8444036841392517\n",
      "  node_ip: 192.168.1.21\n",
      "  pid: 12670\n",
      "  time_since_restore: 69.33388566970825\n",
      "  time_this_iter_s: 69.33388566970825\n",
      "  time_total_s: 69.33388566970825\n",
      "  timestamp: 1614937824\n",
      "  timesteps_since_restore: 0\n",
      "  training_iteration: 1\n",
      "  trial_id: bc338_00007\n",
      "  \n"
     ]
    },
    {
     "data": {
      "text/html": [
       "== Status ==<br>Memory usage on this node: 6.8/7.6 GiB<br>Using FIFO scheduling algorithm.<br>Resources requested: 4/4 CPUs, 0/0 GPUs, 0.0/2.59 GiB heap, 0.0/0.88 GiB objects<br>Result logdir: /home/abdellah/ray_results/training_2021-03-05_10-47-01<br>Number of trials: 10/12 (1 PENDING, 2 RUNNING, 7 TERMINATED)<br><table>\n",
       "<thead>\n",
       "<tr><th>Trial name          </th><th>status    </th><th>loc               </th><th>activation  </th><th style=\"text-align: right;\">  batch_size</th><th style=\"text-align: right;\">  epoch</th><th style=\"text-align: right;\">  hidden_neuron</th><th style=\"text-align: right;\">   lr</th><th style=\"text-align: right;\">  nb_layers</th><th style=\"text-align: right;\">    loss</th><th style=\"text-align: right;\">  iter</th><th style=\"text-align: right;\">  total time (s)</th><th style=\"text-align: right;\">  neg_mean_loss</th></tr>\n",
       "</thead>\n",
       "<tbody>\n",
       "<tr><td>training_bc338_00007</td><td>RUNNING   </td><td>192.168.1.21:12670</td><td>ReLU()      </td><td style=\"text-align: right;\">          30</td><td style=\"text-align: right;\">     50</td><td style=\"text-align: right;\">            200</td><td style=\"text-align: right;\">0.001</td><td style=\"text-align: right;\">          5</td><td style=\"text-align: right;\">0.844404</td><td style=\"text-align: right;\">     1</td><td style=\"text-align: right;\">         69.3339</td><td style=\"text-align: right;\">      -0.844404</td></tr>\n",
       "<tr><td>training_bc338_00008</td><td>RUNNING   </td><td>                  </td><td>SiLU()      </td><td style=\"text-align: right;\">          30</td><td style=\"text-align: right;\">     50</td><td style=\"text-align: right;\">            100</td><td style=\"text-align: right;\">0.001</td><td style=\"text-align: right;\">         10</td><td style=\"text-align: right;\">        </td><td style=\"text-align: right;\">      </td><td style=\"text-align: right;\">                </td><td style=\"text-align: right;\">               </td></tr>\n",
       "<tr><td>training_bc338_00009</td><td>PENDING   </td><td>                  </td><td>ReLU()      </td><td style=\"text-align: right;\">          30</td><td style=\"text-align: right;\">     50</td><td style=\"text-align: right;\">            100</td><td style=\"text-align: right;\">0.001</td><td style=\"text-align: right;\">         10</td><td style=\"text-align: right;\">        </td><td style=\"text-align: right;\">      </td><td style=\"text-align: right;\">                </td><td style=\"text-align: right;\">               </td></tr>\n",
       "<tr><td>training_bc338_00000</td><td>TERMINATED</td><td>                  </td><td>SiLU()      </td><td style=\"text-align: right;\">          30</td><td style=\"text-align: right;\">     50</td><td style=\"text-align: right;\">            100</td><td style=\"text-align: right;\">0.001</td><td style=\"text-align: right;\">          2</td><td style=\"text-align: right;\">0.784674</td><td style=\"text-align: right;\">     1</td><td style=\"text-align: right;\">         26.6921</td><td style=\"text-align: right;\">      -0.784674</td></tr>\n",
       "<tr><td>training_bc338_00001</td><td>TERMINATED</td><td>                  </td><td>ReLU()      </td><td style=\"text-align: right;\">          30</td><td style=\"text-align: right;\">     50</td><td style=\"text-align: right;\">            100</td><td style=\"text-align: right;\">0.001</td><td style=\"text-align: right;\">          2</td><td style=\"text-align: right;\">0.776025</td><td style=\"text-align: right;\">     1</td><td style=\"text-align: right;\">         29.6278</td><td style=\"text-align: right;\">      -0.776025</td></tr>\n",
       "<tr><td>training_bc338_00002</td><td>TERMINATED</td><td>                  </td><td>SiLU()      </td><td style=\"text-align: right;\">          30</td><td style=\"text-align: right;\">     50</td><td style=\"text-align: right;\">            200</td><td style=\"text-align: right;\">0.001</td><td style=\"text-align: right;\">          2</td><td style=\"text-align: right;\">0.78283 </td><td style=\"text-align: right;\">     1</td><td style=\"text-align: right;\">         41.2087</td><td style=\"text-align: right;\">      -0.78283 </td></tr>\n",
       "<tr><td>training_bc338_00003</td><td>TERMINATED</td><td>                  </td><td>ReLU()      </td><td style=\"text-align: right;\">          30</td><td style=\"text-align: right;\">     50</td><td style=\"text-align: right;\">            200</td><td style=\"text-align: right;\">0.001</td><td style=\"text-align: right;\">          2</td><td style=\"text-align: right;\">0.796393</td><td style=\"text-align: right;\">     1</td><td style=\"text-align: right;\">         47.2519</td><td style=\"text-align: right;\">      -0.796393</td></tr>\n",
       "<tr><td>training_bc338_00004</td><td>TERMINATED</td><td>                  </td><td>SiLU()      </td><td style=\"text-align: right;\">          30</td><td style=\"text-align: right;\">     50</td><td style=\"text-align: right;\">            100</td><td style=\"text-align: right;\">0.001</td><td style=\"text-align: right;\">          5</td><td style=\"text-align: right;\">0.837907</td><td style=\"text-align: right;\">     1</td><td style=\"text-align: right;\">         43.2841</td><td style=\"text-align: right;\">      -0.837907</td></tr>\n",
       "<tr><td>training_bc338_00005</td><td>TERMINATED</td><td>                  </td><td>ReLU()      </td><td style=\"text-align: right;\">          30</td><td style=\"text-align: right;\">     50</td><td style=\"text-align: right;\">            100</td><td style=\"text-align: right;\">0.001</td><td style=\"text-align: right;\">          5</td><td style=\"text-align: right;\">0.823411</td><td style=\"text-align: right;\">     1</td><td style=\"text-align: right;\">         44.9447</td><td style=\"text-align: right;\">      -0.823411</td></tr>\n",
       "<tr><td>training_bc338_00006</td><td>TERMINATED</td><td>                  </td><td>SiLU()      </td><td style=\"text-align: right;\">          30</td><td style=\"text-align: right;\">     50</td><td style=\"text-align: right;\">            200</td><td style=\"text-align: right;\">0.001</td><td style=\"text-align: right;\">          5</td><td style=\"text-align: right;\">0.831331</td><td style=\"text-align: right;\">     1</td><td style=\"text-align: right;\">         58.7108</td><td style=\"text-align: right;\">      -0.831331</td></tr>\n",
       "</tbody>\n",
       "</table><br><br>"
      ],
      "text/plain": [
       "<IPython.core.display.HTML object>"
      ]
     },
     "metadata": {},
     "output_type": "display_data"
    },
    {
     "name": "stderr",
     "output_type": "stream",
     "text": [
      "2021-03-05 10:50:24,158\tINFO logger.py:690 -- Removed the following hyperparameter values when logging to tensorboard: {'activation': ReLU()}\n"
     ]
    },
    {
     "name": "stdout",
     "output_type": "stream",
     "text": [
      "Result for training_bc338_00007:\n",
      "  date: 2021-03-05_10-50-24\n",
      "  done: true\n",
      "  experiment_id: 013f93c9bc9941b99a76a63a77f8ffce\n",
      "  experiment_tag: 7_activation=ReLU(),batch_size=30,epoch=50,hidden_neuron=200,lr=0.001,nb_layers=5\n",
      "  hostname: abdellah-Latitude-E7270\n",
      "  iterations_since_restore: 1\n",
      "  mean_loss: 0.8444036841392517\n",
      "  neg_mean_loss: -0.8444036841392517\n",
      "  node_ip: 192.168.1.21\n",
      "  pid: 12670\n",
      "  time_since_restore: 69.33388566970825\n",
      "  time_this_iter_s: 69.33388566970825\n",
      "  time_total_s: 69.33388566970825\n",
      "  timestamp: 1614937824\n",
      "  timesteps_since_restore: 0\n",
      "  training_iteration: 1\n",
      "  trial_id: bc338_00007\n",
      "  \n"
     ]
    },
    {
     "name": "stderr",
     "output_type": "stream",
     "text": [
      "\u001b[2m\u001b[36m(pid=12733)\u001b[0m /home/abdellah/anaconda3/envs/pytorch/lib/python3.7/site-packages/ray/workers/default_worker.py:29: UserWarning: Implicit dimension choice for softmax has been deprecated. Change the call to include dim=X as an argument.\n",
      "\u001b[2m\u001b[36m(pid=12733)\u001b[0m   parser.add_argument(\n",
      "\u001b[2m\u001b[36m(pid=12733)\u001b[0m /home/abdellah/anaconda3/envs/pytorch/lib/python3.7/site-packages/torch/autograd/__init__.py:132: UserWarning: CUDA initialization: Found no NVIDIA driver on your system. Please check that you have an NVIDIA GPU and installed a driver from http://www.nvidia.com/Download/index.aspx (Triggered internally at  /opt/conda/conda-bld/pytorch_1603729047590/work/c10/cuda/CUDAFunctions.cpp:100.)\n",
      "\u001b[2m\u001b[36m(pid=12733)\u001b[0m   allow_unreachable=True)  # allow_unreachable flag\n"
     ]
    },
    {
     "name": "stdout",
     "output_type": "stream",
     "text": [
      "Result for training_bc338_00008:\n",
      "  date: 2021-03-05_10-51-01\n",
      "  done: false\n",
      "  experiment_id: dfcdfc7093274dc0a3c01167d36eff59\n",
      "  hostname: abdellah-Latitude-E7270\n",
      "  iterations_since_restore: 1\n",
      "  mean_loss: 0.9627626314759254\n",
      "  neg_mean_loss: -0.9627626314759254\n",
      "  node_ip: 192.168.1.21\n",
      "  pid: 12709\n",
      "  time_since_restore: 56.0509307384491\n",
      "  time_this_iter_s: 56.0509307384491\n",
      "  time_total_s: 56.0509307384491\n",
      "  timestamp: 1614937861\n",
      "  timesteps_since_restore: 0\n",
      "  training_iteration: 1\n",
      "  trial_id: bc338_00008\n",
      "  \n"
     ]
    },
    {
     "data": {
      "text/html": [
       "== Status ==<br>Memory usage on this node: 6.7/7.6 GiB<br>Using FIFO scheduling algorithm.<br>Resources requested: 4/4 CPUs, 0/0 GPUs, 0.0/2.59 GiB heap, 0.0/0.88 GiB objects<br>Result logdir: /home/abdellah/ray_results/training_2021-03-05_10-47-01<br>Number of trials: 11/12 (1 PENDING, 2 RUNNING, 8 TERMINATED)<br><table>\n",
       "<thead>\n",
       "<tr><th>Trial name          </th><th>status    </th><th>loc               </th><th>activation  </th><th style=\"text-align: right;\">  batch_size</th><th style=\"text-align: right;\">  epoch</th><th style=\"text-align: right;\">  hidden_neuron</th><th style=\"text-align: right;\">   lr</th><th style=\"text-align: right;\">  nb_layers</th><th style=\"text-align: right;\">    loss</th><th style=\"text-align: right;\">  iter</th><th style=\"text-align: right;\">  total time (s)</th><th style=\"text-align: right;\">  neg_mean_loss</th></tr>\n",
       "</thead>\n",
       "<tbody>\n",
       "<tr><td>training_bc338_00008</td><td>RUNNING   </td><td>192.168.1.21:12709</td><td>SiLU()      </td><td style=\"text-align: right;\">          30</td><td style=\"text-align: right;\">     50</td><td style=\"text-align: right;\">            100</td><td style=\"text-align: right;\">0.001</td><td style=\"text-align: right;\">         10</td><td style=\"text-align: right;\">0.962763</td><td style=\"text-align: right;\">     1</td><td style=\"text-align: right;\">         56.0509</td><td style=\"text-align: right;\">      -0.962763</td></tr>\n",
       "<tr><td>training_bc338_00009</td><td>RUNNING   </td><td>                  </td><td>ReLU()      </td><td style=\"text-align: right;\">          30</td><td style=\"text-align: right;\">     50</td><td style=\"text-align: right;\">            100</td><td style=\"text-align: right;\">0.001</td><td style=\"text-align: right;\">         10</td><td style=\"text-align: right;\">        </td><td style=\"text-align: right;\">      </td><td style=\"text-align: right;\">                </td><td style=\"text-align: right;\">               </td></tr>\n",
       "<tr><td>training_bc338_00010</td><td>PENDING   </td><td>                  </td><td>SiLU()      </td><td style=\"text-align: right;\">          30</td><td style=\"text-align: right;\">     50</td><td style=\"text-align: right;\">            200</td><td style=\"text-align: right;\">0.001</td><td style=\"text-align: right;\">         10</td><td style=\"text-align: right;\">        </td><td style=\"text-align: right;\">      </td><td style=\"text-align: right;\">                </td><td style=\"text-align: right;\">               </td></tr>\n",
       "<tr><td>training_bc338_00000</td><td>TERMINATED</td><td>                  </td><td>SiLU()      </td><td style=\"text-align: right;\">          30</td><td style=\"text-align: right;\">     50</td><td style=\"text-align: right;\">            100</td><td style=\"text-align: right;\">0.001</td><td style=\"text-align: right;\">          2</td><td style=\"text-align: right;\">0.784674</td><td style=\"text-align: right;\">     1</td><td style=\"text-align: right;\">         26.6921</td><td style=\"text-align: right;\">      -0.784674</td></tr>\n",
       "<tr><td>training_bc338_00001</td><td>TERMINATED</td><td>                  </td><td>ReLU()      </td><td style=\"text-align: right;\">          30</td><td style=\"text-align: right;\">     50</td><td style=\"text-align: right;\">            100</td><td style=\"text-align: right;\">0.001</td><td style=\"text-align: right;\">          2</td><td style=\"text-align: right;\">0.776025</td><td style=\"text-align: right;\">     1</td><td style=\"text-align: right;\">         29.6278</td><td style=\"text-align: right;\">      -0.776025</td></tr>\n",
       "<tr><td>training_bc338_00002</td><td>TERMINATED</td><td>                  </td><td>SiLU()      </td><td style=\"text-align: right;\">          30</td><td style=\"text-align: right;\">     50</td><td style=\"text-align: right;\">            200</td><td style=\"text-align: right;\">0.001</td><td style=\"text-align: right;\">          2</td><td style=\"text-align: right;\">0.78283 </td><td style=\"text-align: right;\">     1</td><td style=\"text-align: right;\">         41.2087</td><td style=\"text-align: right;\">      -0.78283 </td></tr>\n",
       "<tr><td>training_bc338_00003</td><td>TERMINATED</td><td>                  </td><td>ReLU()      </td><td style=\"text-align: right;\">          30</td><td style=\"text-align: right;\">     50</td><td style=\"text-align: right;\">            200</td><td style=\"text-align: right;\">0.001</td><td style=\"text-align: right;\">          2</td><td style=\"text-align: right;\">0.796393</td><td style=\"text-align: right;\">     1</td><td style=\"text-align: right;\">         47.2519</td><td style=\"text-align: right;\">      -0.796393</td></tr>\n",
       "<tr><td>training_bc338_00004</td><td>TERMINATED</td><td>                  </td><td>SiLU()      </td><td style=\"text-align: right;\">          30</td><td style=\"text-align: right;\">     50</td><td style=\"text-align: right;\">            100</td><td style=\"text-align: right;\">0.001</td><td style=\"text-align: right;\">          5</td><td style=\"text-align: right;\">0.837907</td><td style=\"text-align: right;\">     1</td><td style=\"text-align: right;\">         43.2841</td><td style=\"text-align: right;\">      -0.837907</td></tr>\n",
       "<tr><td>training_bc338_00005</td><td>TERMINATED</td><td>                  </td><td>ReLU()      </td><td style=\"text-align: right;\">          30</td><td style=\"text-align: right;\">     50</td><td style=\"text-align: right;\">            100</td><td style=\"text-align: right;\">0.001</td><td style=\"text-align: right;\">          5</td><td style=\"text-align: right;\">0.823411</td><td style=\"text-align: right;\">     1</td><td style=\"text-align: right;\">         44.9447</td><td style=\"text-align: right;\">      -0.823411</td></tr>\n",
       "<tr><td>training_bc338_00006</td><td>TERMINATED</td><td>                  </td><td>SiLU()      </td><td style=\"text-align: right;\">          30</td><td style=\"text-align: right;\">     50</td><td style=\"text-align: right;\">            200</td><td style=\"text-align: right;\">0.001</td><td style=\"text-align: right;\">          5</td><td style=\"text-align: right;\">0.831331</td><td style=\"text-align: right;\">     1</td><td style=\"text-align: right;\">         58.7108</td><td style=\"text-align: right;\">      -0.831331</td></tr>\n",
       "<tr><td>training_bc338_00007</td><td>TERMINATED</td><td>                  </td><td>ReLU()      </td><td style=\"text-align: right;\">          30</td><td style=\"text-align: right;\">     50</td><td style=\"text-align: right;\">            200</td><td style=\"text-align: right;\">0.001</td><td style=\"text-align: right;\">          5</td><td style=\"text-align: right;\">0.844404</td><td style=\"text-align: right;\">     1</td><td style=\"text-align: right;\">         69.3339</td><td style=\"text-align: right;\">      -0.844404</td></tr>\n",
       "</tbody>\n",
       "</table><br><br>"
      ],
      "text/plain": [
       "<IPython.core.display.HTML object>"
      ]
     },
     "metadata": {},
     "output_type": "display_data"
    },
    {
     "name": "stderr",
     "output_type": "stream",
     "text": [
      "2021-03-05 10:51:01,506\tINFO logger.py:690 -- Removed the following hyperparameter values when logging to tensorboard: {'activation': SiLU()}\n"
     ]
    },
    {
     "name": "stdout",
     "output_type": "stream",
     "text": [
      "Result for training_bc338_00008:\n",
      "  date: 2021-03-05_10-51-01\n",
      "  done: true\n",
      "  experiment_id: dfcdfc7093274dc0a3c01167d36eff59\n",
      "  experiment_tag: 8_activation=SiLU(),batch_size=30,epoch=50,hidden_neuron=100,lr=0.001,nb_layers=10\n",
      "  hostname: abdellah-Latitude-E7270\n",
      "  iterations_since_restore: 1\n",
      "  mean_loss: 0.9627626314759254\n",
      "  neg_mean_loss: -0.9627626314759254\n",
      "  node_ip: 192.168.1.21\n",
      "  pid: 12709\n",
      "  time_since_restore: 56.0509307384491\n",
      "  time_this_iter_s: 56.0509307384491\n",
      "  time_total_s: 56.0509307384491\n",
      "  timestamp: 1614937861\n",
      "  timesteps_since_restore: 0\n",
      "  training_iteration: 1\n",
      "  trial_id: bc338_00008\n",
      "  \n"
     ]
    },
    {
     "name": "stderr",
     "output_type": "stream",
     "text": [
      "\u001b[2m\u001b[36m(pid=12769)\u001b[0m /home/abdellah/anaconda3/envs/pytorch/lib/python3.7/site-packages/ray/workers/default_worker.py:29: UserWarning: Implicit dimension choice for softmax has been deprecated. Change the call to include dim=X as an argument.\n",
      "\u001b[2m\u001b[36m(pid=12769)\u001b[0m   parser.add_argument(\n",
      "\u001b[2m\u001b[36m(pid=12769)\u001b[0m /home/abdellah/anaconda3/envs/pytorch/lib/python3.7/site-packages/torch/autograd/__init__.py:132: UserWarning: CUDA initialization: Found no NVIDIA driver on your system. Please check that you have an NVIDIA GPU and installed a driver from http://www.nvidia.com/Download/index.aspx (Triggered internally at  /opt/conda/conda-bld/pytorch_1603729047590/work/c10/cuda/CUDAFunctions.cpp:100.)\n",
      "\u001b[2m\u001b[36m(pid=12769)\u001b[0m   allow_unreachable=True)  # allow_unreachable flag\n"
     ]
    },
    {
     "name": "stdout",
     "output_type": "stream",
     "text": [
      "Result for training_bc338_00009:\n",
      "  date: 2021-03-05_10-51-17\n",
      "  done: false\n",
      "  experiment_id: 746a358939cf4f388e954ee2c9ff05c8\n",
      "  hostname: abdellah-Latitude-E7270\n",
      "  iterations_since_restore: 1\n",
      "  mean_loss: 0.9270795360207558\n",
      "  neg_mean_loss: -0.9270795360207558\n",
      "  node_ip: 192.168.1.21\n",
      "  pid: 12733\n",
      "  time_since_restore: 50.387184381484985\n",
      "  time_this_iter_s: 50.387184381484985\n",
      "  time_total_s: 50.387184381484985\n",
      "  timestamp: 1614937877\n",
      "  timesteps_since_restore: 0\n",
      "  training_iteration: 1\n",
      "  trial_id: bc338_00009\n",
      "  \n"
     ]
    },
    {
     "data": {
      "text/html": [
       "== Status ==<br>Memory usage on this node: 6.4/7.6 GiB<br>Using FIFO scheduling algorithm.<br>Resources requested: 4/4 CPUs, 0/0 GPUs, 0.0/2.59 GiB heap, 0.0/0.88 GiB objects<br>Result logdir: /home/abdellah/ray_results/training_2021-03-05_10-47-01<br>Number of trials: 12/12 (1 PENDING, 2 RUNNING, 9 TERMINATED)<br><table>\n",
       "<thead>\n",
       "<tr><th>Trial name          </th><th>status    </th><th>loc               </th><th>activation  </th><th style=\"text-align: right;\">  batch_size</th><th style=\"text-align: right;\">  epoch</th><th style=\"text-align: right;\">  hidden_neuron</th><th style=\"text-align: right;\">   lr</th><th style=\"text-align: right;\">  nb_layers</th><th style=\"text-align: right;\">    loss</th><th style=\"text-align: right;\">  iter</th><th style=\"text-align: right;\">  total time (s)</th><th style=\"text-align: right;\">  neg_mean_loss</th></tr>\n",
       "</thead>\n",
       "<tbody>\n",
       "<tr><td>training_bc338_00009</td><td>RUNNING   </td><td>192.168.1.21:12733</td><td>ReLU()      </td><td style=\"text-align: right;\">          30</td><td style=\"text-align: right;\">     50</td><td style=\"text-align: right;\">            100</td><td style=\"text-align: right;\">0.001</td><td style=\"text-align: right;\">         10</td><td style=\"text-align: right;\">0.92708 </td><td style=\"text-align: right;\">     1</td><td style=\"text-align: right;\">         50.3872</td><td style=\"text-align: right;\">      -0.92708 </td></tr>\n",
       "<tr><td>training_bc338_00010</td><td>RUNNING   </td><td>                  </td><td>SiLU()      </td><td style=\"text-align: right;\">          30</td><td style=\"text-align: right;\">     50</td><td style=\"text-align: right;\">            200</td><td style=\"text-align: right;\">0.001</td><td style=\"text-align: right;\">         10</td><td style=\"text-align: right;\">        </td><td style=\"text-align: right;\">      </td><td style=\"text-align: right;\">                </td><td style=\"text-align: right;\">               </td></tr>\n",
       "<tr><td>training_bc338_00011</td><td>PENDING   </td><td>                  </td><td>ReLU()      </td><td style=\"text-align: right;\">          30</td><td style=\"text-align: right;\">     50</td><td style=\"text-align: right;\">            200</td><td style=\"text-align: right;\">0.001</td><td style=\"text-align: right;\">         10</td><td style=\"text-align: right;\">        </td><td style=\"text-align: right;\">      </td><td style=\"text-align: right;\">                </td><td style=\"text-align: right;\">               </td></tr>\n",
       "<tr><td>training_bc338_00000</td><td>TERMINATED</td><td>                  </td><td>SiLU()      </td><td style=\"text-align: right;\">          30</td><td style=\"text-align: right;\">     50</td><td style=\"text-align: right;\">            100</td><td style=\"text-align: right;\">0.001</td><td style=\"text-align: right;\">          2</td><td style=\"text-align: right;\">0.784674</td><td style=\"text-align: right;\">     1</td><td style=\"text-align: right;\">         26.6921</td><td style=\"text-align: right;\">      -0.784674</td></tr>\n",
       "<tr><td>training_bc338_00001</td><td>TERMINATED</td><td>                  </td><td>ReLU()      </td><td style=\"text-align: right;\">          30</td><td style=\"text-align: right;\">     50</td><td style=\"text-align: right;\">            100</td><td style=\"text-align: right;\">0.001</td><td style=\"text-align: right;\">          2</td><td style=\"text-align: right;\">0.776025</td><td style=\"text-align: right;\">     1</td><td style=\"text-align: right;\">         29.6278</td><td style=\"text-align: right;\">      -0.776025</td></tr>\n",
       "<tr><td>training_bc338_00002</td><td>TERMINATED</td><td>                  </td><td>SiLU()      </td><td style=\"text-align: right;\">          30</td><td style=\"text-align: right;\">     50</td><td style=\"text-align: right;\">            200</td><td style=\"text-align: right;\">0.001</td><td style=\"text-align: right;\">          2</td><td style=\"text-align: right;\">0.78283 </td><td style=\"text-align: right;\">     1</td><td style=\"text-align: right;\">         41.2087</td><td style=\"text-align: right;\">      -0.78283 </td></tr>\n",
       "<tr><td>training_bc338_00003</td><td>TERMINATED</td><td>                  </td><td>ReLU()      </td><td style=\"text-align: right;\">          30</td><td style=\"text-align: right;\">     50</td><td style=\"text-align: right;\">            200</td><td style=\"text-align: right;\">0.001</td><td style=\"text-align: right;\">          2</td><td style=\"text-align: right;\">0.796393</td><td style=\"text-align: right;\">     1</td><td style=\"text-align: right;\">         47.2519</td><td style=\"text-align: right;\">      -0.796393</td></tr>\n",
       "<tr><td>training_bc338_00004</td><td>TERMINATED</td><td>                  </td><td>SiLU()      </td><td style=\"text-align: right;\">          30</td><td style=\"text-align: right;\">     50</td><td style=\"text-align: right;\">            100</td><td style=\"text-align: right;\">0.001</td><td style=\"text-align: right;\">          5</td><td style=\"text-align: right;\">0.837907</td><td style=\"text-align: right;\">     1</td><td style=\"text-align: right;\">         43.2841</td><td style=\"text-align: right;\">      -0.837907</td></tr>\n",
       "<tr><td>training_bc338_00005</td><td>TERMINATED</td><td>                  </td><td>ReLU()      </td><td style=\"text-align: right;\">          30</td><td style=\"text-align: right;\">     50</td><td style=\"text-align: right;\">            100</td><td style=\"text-align: right;\">0.001</td><td style=\"text-align: right;\">          5</td><td style=\"text-align: right;\">0.823411</td><td style=\"text-align: right;\">     1</td><td style=\"text-align: right;\">         44.9447</td><td style=\"text-align: right;\">      -0.823411</td></tr>\n",
       "<tr><td>training_bc338_00006</td><td>TERMINATED</td><td>                  </td><td>SiLU()      </td><td style=\"text-align: right;\">          30</td><td style=\"text-align: right;\">     50</td><td style=\"text-align: right;\">            200</td><td style=\"text-align: right;\">0.001</td><td style=\"text-align: right;\">          5</td><td style=\"text-align: right;\">0.831331</td><td style=\"text-align: right;\">     1</td><td style=\"text-align: right;\">         58.7108</td><td style=\"text-align: right;\">      -0.831331</td></tr>\n",
       "<tr><td>training_bc338_00007</td><td>TERMINATED</td><td>                  </td><td>ReLU()      </td><td style=\"text-align: right;\">          30</td><td style=\"text-align: right;\">     50</td><td style=\"text-align: right;\">            200</td><td style=\"text-align: right;\">0.001</td><td style=\"text-align: right;\">          5</td><td style=\"text-align: right;\">0.844404</td><td style=\"text-align: right;\">     1</td><td style=\"text-align: right;\">         69.3339</td><td style=\"text-align: right;\">      -0.844404</td></tr>\n",
       "<tr><td>training_bc338_00008</td><td>TERMINATED</td><td>                  </td><td>SiLU()      </td><td style=\"text-align: right;\">          30</td><td style=\"text-align: right;\">     50</td><td style=\"text-align: right;\">            100</td><td style=\"text-align: right;\">0.001</td><td style=\"text-align: right;\">         10</td><td style=\"text-align: right;\">0.962763</td><td style=\"text-align: right;\">     1</td><td style=\"text-align: right;\">         56.0509</td><td style=\"text-align: right;\">      -0.962763</td></tr>\n",
       "</tbody>\n",
       "</table><br><br>"
      ],
      "text/plain": [
       "<IPython.core.display.HTML object>"
      ]
     },
     "metadata": {},
     "output_type": "display_data"
    },
    {
     "name": "stderr",
     "output_type": "stream",
     "text": [
      "2021-03-05 10:51:17,603\tINFO logger.py:690 -- Removed the following hyperparameter values when logging to tensorboard: {'activation': ReLU()}\n"
     ]
    },
    {
     "name": "stdout",
     "output_type": "stream",
     "text": [
      "Result for training_bc338_00009:\n",
      "  date: 2021-03-05_10-51-17\n",
      "  done: true\n",
      "  experiment_id: 746a358939cf4f388e954ee2c9ff05c8\n",
      "  experiment_tag: 9_activation=ReLU(),batch_size=30,epoch=50,hidden_neuron=100,lr=0.001,nb_layers=10\n",
      "  hostname: abdellah-Latitude-E7270\n",
      "  iterations_since_restore: 1\n",
      "  mean_loss: 0.9270795360207558\n",
      "  neg_mean_loss: -0.9270795360207558\n",
      "  node_ip: 192.168.1.21\n",
      "  pid: 12733\n",
      "  time_since_restore: 50.387184381484985\n",
      "  time_this_iter_s: 50.387184381484985\n",
      "  time_total_s: 50.387184381484985\n",
      "  timestamp: 1614937877\n",
      "  timesteps_since_restore: 0\n",
      "  training_iteration: 1\n",
      "  trial_id: bc338_00009\n",
      "  \n"
     ]
    },
    {
     "name": "stderr",
     "output_type": "stream",
     "text": [
      "\u001b[2m\u001b[36m(pid=12794)\u001b[0m /home/abdellah/anaconda3/envs/pytorch/lib/python3.7/site-packages/ray/workers/default_worker.py:29: UserWarning: Implicit dimension choice for softmax has been deprecated. Change the call to include dim=X as an argument.\n",
      "\u001b[2m\u001b[36m(pid=12794)\u001b[0m   parser.add_argument(\n",
      "\u001b[2m\u001b[36m(pid=12794)\u001b[0m /home/abdellah/anaconda3/envs/pytorch/lib/python3.7/site-packages/torch/autograd/__init__.py:132: UserWarning: CUDA initialization: Found no NVIDIA driver on your system. Please check that you have an NVIDIA GPU and installed a driver from http://www.nvidia.com/Download/index.aspx (Triggered internally at  /opt/conda/conda-bld/pytorch_1603729047590/work/c10/cuda/CUDAFunctions.cpp:100.)\n",
      "\u001b[2m\u001b[36m(pid=12794)\u001b[0m   allow_unreachable=True)  # allow_unreachable flag\n"
     ]
    },
    {
     "name": "stdout",
     "output_type": "stream",
     "text": [
      "Result for training_bc338_00010:\n",
      "  date: 2021-03-05_10-52-49\n",
      "  done: false\n",
      "  experiment_id: 560c40a3c8f14cc9a85b6ec0ac81f063\n",
      "  hostname: abdellah-Latitude-E7270\n",
      "  iterations_since_restore: 1\n",
      "  mean_loss: 2.8476191759109497\n",
      "  neg_mean_loss: -2.8476191759109497\n",
      "  node_ip: 192.168.1.21\n",
      "  pid: 12769\n",
      "  time_since_restore: 105.84605026245117\n",
      "  time_this_iter_s: 105.84605026245117\n",
      "  time_total_s: 105.84605026245117\n",
      "  timestamp: 1614937969\n",
      "  timesteps_since_restore: 0\n",
      "  training_iteration: 1\n",
      "  trial_id: bc338_00010\n",
      "  \n"
     ]
    },
    {
     "data": {
      "text/html": [
       "== Status ==<br>Memory usage on this node: 6.8/7.6 GiB<br>Using FIFO scheduling algorithm.<br>Resources requested: 4/4 CPUs, 0/0 GPUs, 0.0/2.59 GiB heap, 0.0/0.88 GiB objects<br>Result logdir: /home/abdellah/ray_results/training_2021-03-05_10-47-01<br>Number of trials: 12/12 (2 RUNNING, 10 TERMINATED)<br><table>\n",
       "<thead>\n",
       "<tr><th>Trial name          </th><th>status    </th><th>loc               </th><th>activation  </th><th style=\"text-align: right;\">  batch_size</th><th style=\"text-align: right;\">  epoch</th><th style=\"text-align: right;\">  hidden_neuron</th><th style=\"text-align: right;\">   lr</th><th style=\"text-align: right;\">  nb_layers</th><th style=\"text-align: right;\">    loss</th><th style=\"text-align: right;\">  iter</th><th style=\"text-align: right;\">  total time (s)</th><th style=\"text-align: right;\">  neg_mean_loss</th></tr>\n",
       "</thead>\n",
       "<tbody>\n",
       "<tr><td>training_bc338_00010</td><td>RUNNING   </td><td>192.168.1.21:12769</td><td>SiLU()      </td><td style=\"text-align: right;\">          30</td><td style=\"text-align: right;\">     50</td><td style=\"text-align: right;\">            200</td><td style=\"text-align: right;\">0.001</td><td style=\"text-align: right;\">         10</td><td style=\"text-align: right;\">2.84762 </td><td style=\"text-align: right;\">     1</td><td style=\"text-align: right;\">        105.846 </td><td style=\"text-align: right;\">      -2.84762 </td></tr>\n",
       "<tr><td>training_bc338_00011</td><td>RUNNING   </td><td>                  </td><td>ReLU()      </td><td style=\"text-align: right;\">          30</td><td style=\"text-align: right;\">     50</td><td style=\"text-align: right;\">            200</td><td style=\"text-align: right;\">0.001</td><td style=\"text-align: right;\">         10</td><td style=\"text-align: right;\">        </td><td style=\"text-align: right;\">      </td><td style=\"text-align: right;\">                </td><td style=\"text-align: right;\">               </td></tr>\n",
       "<tr><td>training_bc338_00000</td><td>TERMINATED</td><td>                  </td><td>SiLU()      </td><td style=\"text-align: right;\">          30</td><td style=\"text-align: right;\">     50</td><td style=\"text-align: right;\">            100</td><td style=\"text-align: right;\">0.001</td><td style=\"text-align: right;\">          2</td><td style=\"text-align: right;\">0.784674</td><td style=\"text-align: right;\">     1</td><td style=\"text-align: right;\">         26.6921</td><td style=\"text-align: right;\">      -0.784674</td></tr>\n",
       "<tr><td>training_bc338_00001</td><td>TERMINATED</td><td>                  </td><td>ReLU()      </td><td style=\"text-align: right;\">          30</td><td style=\"text-align: right;\">     50</td><td style=\"text-align: right;\">            100</td><td style=\"text-align: right;\">0.001</td><td style=\"text-align: right;\">          2</td><td style=\"text-align: right;\">0.776025</td><td style=\"text-align: right;\">     1</td><td style=\"text-align: right;\">         29.6278</td><td style=\"text-align: right;\">      -0.776025</td></tr>\n",
       "<tr><td>training_bc338_00002</td><td>TERMINATED</td><td>                  </td><td>SiLU()      </td><td style=\"text-align: right;\">          30</td><td style=\"text-align: right;\">     50</td><td style=\"text-align: right;\">            200</td><td style=\"text-align: right;\">0.001</td><td style=\"text-align: right;\">          2</td><td style=\"text-align: right;\">0.78283 </td><td style=\"text-align: right;\">     1</td><td style=\"text-align: right;\">         41.2087</td><td style=\"text-align: right;\">      -0.78283 </td></tr>\n",
       "<tr><td>training_bc338_00003</td><td>TERMINATED</td><td>                  </td><td>ReLU()      </td><td style=\"text-align: right;\">          30</td><td style=\"text-align: right;\">     50</td><td style=\"text-align: right;\">            200</td><td style=\"text-align: right;\">0.001</td><td style=\"text-align: right;\">          2</td><td style=\"text-align: right;\">0.796393</td><td style=\"text-align: right;\">     1</td><td style=\"text-align: right;\">         47.2519</td><td style=\"text-align: right;\">      -0.796393</td></tr>\n",
       "<tr><td>training_bc338_00004</td><td>TERMINATED</td><td>                  </td><td>SiLU()      </td><td style=\"text-align: right;\">          30</td><td style=\"text-align: right;\">     50</td><td style=\"text-align: right;\">            100</td><td style=\"text-align: right;\">0.001</td><td style=\"text-align: right;\">          5</td><td style=\"text-align: right;\">0.837907</td><td style=\"text-align: right;\">     1</td><td style=\"text-align: right;\">         43.2841</td><td style=\"text-align: right;\">      -0.837907</td></tr>\n",
       "<tr><td>training_bc338_00005</td><td>TERMINATED</td><td>                  </td><td>ReLU()      </td><td style=\"text-align: right;\">          30</td><td style=\"text-align: right;\">     50</td><td style=\"text-align: right;\">            100</td><td style=\"text-align: right;\">0.001</td><td style=\"text-align: right;\">          5</td><td style=\"text-align: right;\">0.823411</td><td style=\"text-align: right;\">     1</td><td style=\"text-align: right;\">         44.9447</td><td style=\"text-align: right;\">      -0.823411</td></tr>\n",
       "<tr><td>training_bc338_00006</td><td>TERMINATED</td><td>                  </td><td>SiLU()      </td><td style=\"text-align: right;\">          30</td><td style=\"text-align: right;\">     50</td><td style=\"text-align: right;\">            200</td><td style=\"text-align: right;\">0.001</td><td style=\"text-align: right;\">          5</td><td style=\"text-align: right;\">0.831331</td><td style=\"text-align: right;\">     1</td><td style=\"text-align: right;\">         58.7108</td><td style=\"text-align: right;\">      -0.831331</td></tr>\n",
       "<tr><td>training_bc338_00007</td><td>TERMINATED</td><td>                  </td><td>ReLU()      </td><td style=\"text-align: right;\">          30</td><td style=\"text-align: right;\">     50</td><td style=\"text-align: right;\">            200</td><td style=\"text-align: right;\">0.001</td><td style=\"text-align: right;\">          5</td><td style=\"text-align: right;\">0.844404</td><td style=\"text-align: right;\">     1</td><td style=\"text-align: right;\">         69.3339</td><td style=\"text-align: right;\">      -0.844404</td></tr>\n",
       "<tr><td>training_bc338_00008</td><td>TERMINATED</td><td>                  </td><td>SiLU()      </td><td style=\"text-align: right;\">          30</td><td style=\"text-align: right;\">     50</td><td style=\"text-align: right;\">            100</td><td style=\"text-align: right;\">0.001</td><td style=\"text-align: right;\">         10</td><td style=\"text-align: right;\">0.962763</td><td style=\"text-align: right;\">     1</td><td style=\"text-align: right;\">         56.0509</td><td style=\"text-align: right;\">      -0.962763</td></tr>\n",
       "<tr><td>training_bc338_00009</td><td>TERMINATED</td><td>                  </td><td>ReLU()      </td><td style=\"text-align: right;\">          30</td><td style=\"text-align: right;\">     50</td><td style=\"text-align: right;\">            100</td><td style=\"text-align: right;\">0.001</td><td style=\"text-align: right;\">         10</td><td style=\"text-align: right;\">0.92708 </td><td style=\"text-align: right;\">     1</td><td style=\"text-align: right;\">         50.3872</td><td style=\"text-align: right;\">      -0.92708 </td></tr>\n",
       "</tbody>\n",
       "</table><br><br>"
      ],
      "text/plain": [
       "<IPython.core.display.HTML object>"
      ]
     },
     "metadata": {},
     "output_type": "display_data"
    },
    {
     "name": "stderr",
     "output_type": "stream",
     "text": [
      "2021-03-05 10:52:49,693\tINFO logger.py:690 -- Removed the following hyperparameter values when logging to tensorboard: {'activation': SiLU()}\n"
     ]
    },
    {
     "name": "stdout",
     "output_type": "stream",
     "text": [
      "Result for training_bc338_00010:\n",
      "  date: 2021-03-05_10-52-49\n",
      "  done: true\n",
      "  experiment_id: 560c40a3c8f14cc9a85b6ec0ac81f063\n",
      "  experiment_tag: 10_activation=SiLU(),batch_size=30,epoch=50,hidden_neuron=200,lr=0.001,nb_layers=10\n",
      "  hostname: abdellah-Latitude-E7270\n",
      "  iterations_since_restore: 1\n",
      "  mean_loss: 2.8476191759109497\n",
      "  neg_mean_loss: -2.8476191759109497\n",
      "  node_ip: 192.168.1.21\n",
      "  pid: 12769\n",
      "  time_since_restore: 105.84605026245117\n",
      "  time_this_iter_s: 105.84605026245117\n",
      "  time_total_s: 105.84605026245117\n",
      "  timestamp: 1614937969\n",
      "  timesteps_since_restore: 0\n",
      "  training_iteration: 1\n",
      "  trial_id: bc338_00010\n",
      "  \n",
      "Result for training_bc338_00011:\n",
      "  date: 2021-03-05_10-52-56\n",
      "  done: false\n",
      "  experiment_id: 38431b143a964fe4bc607fc38f2cb5ce\n",
      "  hostname: abdellah-Latitude-E7270\n",
      "  iterations_since_restore: 1\n",
      "  mean_loss: 0.914558470249176\n",
      "  neg_mean_loss: -0.914558470249176\n",
      "  node_ip: 192.168.1.21\n",
      "  pid: 12794\n",
      "  time_since_restore: 96.11981010437012\n",
      "  time_this_iter_s: 96.11981010437012\n",
      "  time_total_s: 96.11981010437012\n",
      "  timestamp: 1614937976\n",
      "  timesteps_since_restore: 0\n",
      "  training_iteration: 1\n",
      "  trial_id: bc338_00011\n",
      "  \n"
     ]
    },
    {
     "data": {
      "text/html": [
       "== Status ==<br>Memory usage on this node: 6.2/7.6 GiB<br>Using FIFO scheduling algorithm.<br>Resources requested: 2/4 CPUs, 0/0 GPUs, 0.0/2.59 GiB heap, 0.0/0.88 GiB objects<br>Result logdir: /home/abdellah/ray_results/training_2021-03-05_10-47-01<br>Number of trials: 12/12 (1 RUNNING, 11 TERMINATED)<br><table>\n",
       "<thead>\n",
       "<tr><th>Trial name          </th><th>status    </th><th>loc               </th><th>activation  </th><th style=\"text-align: right;\">  batch_size</th><th style=\"text-align: right;\">  epoch</th><th style=\"text-align: right;\">  hidden_neuron</th><th style=\"text-align: right;\">   lr</th><th style=\"text-align: right;\">  nb_layers</th><th style=\"text-align: right;\">    loss</th><th style=\"text-align: right;\">  iter</th><th style=\"text-align: right;\">  total time (s)</th><th style=\"text-align: right;\">  neg_mean_loss</th></tr>\n",
       "</thead>\n",
       "<tbody>\n",
       "<tr><td>training_bc338_00011</td><td>RUNNING   </td><td>192.168.1.21:12794</td><td>ReLU()      </td><td style=\"text-align: right;\">          30</td><td style=\"text-align: right;\">     50</td><td style=\"text-align: right;\">            200</td><td style=\"text-align: right;\">0.001</td><td style=\"text-align: right;\">         10</td><td style=\"text-align: right;\">0.914558</td><td style=\"text-align: right;\">     1</td><td style=\"text-align: right;\">         96.1198</td><td style=\"text-align: right;\">      -0.914558</td></tr>\n",
       "<tr><td>training_bc338_00000</td><td>TERMINATED</td><td>                  </td><td>SiLU()      </td><td style=\"text-align: right;\">          30</td><td style=\"text-align: right;\">     50</td><td style=\"text-align: right;\">            100</td><td style=\"text-align: right;\">0.001</td><td style=\"text-align: right;\">          2</td><td style=\"text-align: right;\">0.784674</td><td style=\"text-align: right;\">     1</td><td style=\"text-align: right;\">         26.6921</td><td style=\"text-align: right;\">      -0.784674</td></tr>\n",
       "<tr><td>training_bc338_00001</td><td>TERMINATED</td><td>                  </td><td>ReLU()      </td><td style=\"text-align: right;\">          30</td><td style=\"text-align: right;\">     50</td><td style=\"text-align: right;\">            100</td><td style=\"text-align: right;\">0.001</td><td style=\"text-align: right;\">          2</td><td style=\"text-align: right;\">0.776025</td><td style=\"text-align: right;\">     1</td><td style=\"text-align: right;\">         29.6278</td><td style=\"text-align: right;\">      -0.776025</td></tr>\n",
       "<tr><td>training_bc338_00002</td><td>TERMINATED</td><td>                  </td><td>SiLU()      </td><td style=\"text-align: right;\">          30</td><td style=\"text-align: right;\">     50</td><td style=\"text-align: right;\">            200</td><td style=\"text-align: right;\">0.001</td><td style=\"text-align: right;\">          2</td><td style=\"text-align: right;\">0.78283 </td><td style=\"text-align: right;\">     1</td><td style=\"text-align: right;\">         41.2087</td><td style=\"text-align: right;\">      -0.78283 </td></tr>\n",
       "<tr><td>training_bc338_00003</td><td>TERMINATED</td><td>                  </td><td>ReLU()      </td><td style=\"text-align: right;\">          30</td><td style=\"text-align: right;\">     50</td><td style=\"text-align: right;\">            200</td><td style=\"text-align: right;\">0.001</td><td style=\"text-align: right;\">          2</td><td style=\"text-align: right;\">0.796393</td><td style=\"text-align: right;\">     1</td><td style=\"text-align: right;\">         47.2519</td><td style=\"text-align: right;\">      -0.796393</td></tr>\n",
       "<tr><td>training_bc338_00004</td><td>TERMINATED</td><td>                  </td><td>SiLU()      </td><td style=\"text-align: right;\">          30</td><td style=\"text-align: right;\">     50</td><td style=\"text-align: right;\">            100</td><td style=\"text-align: right;\">0.001</td><td style=\"text-align: right;\">          5</td><td style=\"text-align: right;\">0.837907</td><td style=\"text-align: right;\">     1</td><td style=\"text-align: right;\">         43.2841</td><td style=\"text-align: right;\">      -0.837907</td></tr>\n",
       "<tr><td>training_bc338_00005</td><td>TERMINATED</td><td>                  </td><td>ReLU()      </td><td style=\"text-align: right;\">          30</td><td style=\"text-align: right;\">     50</td><td style=\"text-align: right;\">            100</td><td style=\"text-align: right;\">0.001</td><td style=\"text-align: right;\">          5</td><td style=\"text-align: right;\">0.823411</td><td style=\"text-align: right;\">     1</td><td style=\"text-align: right;\">         44.9447</td><td style=\"text-align: right;\">      -0.823411</td></tr>\n",
       "<tr><td>training_bc338_00006</td><td>TERMINATED</td><td>                  </td><td>SiLU()      </td><td style=\"text-align: right;\">          30</td><td style=\"text-align: right;\">     50</td><td style=\"text-align: right;\">            200</td><td style=\"text-align: right;\">0.001</td><td style=\"text-align: right;\">          5</td><td style=\"text-align: right;\">0.831331</td><td style=\"text-align: right;\">     1</td><td style=\"text-align: right;\">         58.7108</td><td style=\"text-align: right;\">      -0.831331</td></tr>\n",
       "<tr><td>training_bc338_00007</td><td>TERMINATED</td><td>                  </td><td>ReLU()      </td><td style=\"text-align: right;\">          30</td><td style=\"text-align: right;\">     50</td><td style=\"text-align: right;\">            200</td><td style=\"text-align: right;\">0.001</td><td style=\"text-align: right;\">          5</td><td style=\"text-align: right;\">0.844404</td><td style=\"text-align: right;\">     1</td><td style=\"text-align: right;\">         69.3339</td><td style=\"text-align: right;\">      -0.844404</td></tr>\n",
       "<tr><td>training_bc338_00008</td><td>TERMINATED</td><td>                  </td><td>SiLU()      </td><td style=\"text-align: right;\">          30</td><td style=\"text-align: right;\">     50</td><td style=\"text-align: right;\">            100</td><td style=\"text-align: right;\">0.001</td><td style=\"text-align: right;\">         10</td><td style=\"text-align: right;\">0.962763</td><td style=\"text-align: right;\">     1</td><td style=\"text-align: right;\">         56.0509</td><td style=\"text-align: right;\">      -0.962763</td></tr>\n",
       "<tr><td>training_bc338_00009</td><td>TERMINATED</td><td>                  </td><td>ReLU()      </td><td style=\"text-align: right;\">          30</td><td style=\"text-align: right;\">     50</td><td style=\"text-align: right;\">            100</td><td style=\"text-align: right;\">0.001</td><td style=\"text-align: right;\">         10</td><td style=\"text-align: right;\">0.92708 </td><td style=\"text-align: right;\">     1</td><td style=\"text-align: right;\">         50.3872</td><td style=\"text-align: right;\">      -0.92708 </td></tr>\n",
       "<tr><td>training_bc338_00010</td><td>TERMINATED</td><td>                  </td><td>SiLU()      </td><td style=\"text-align: right;\">          30</td><td style=\"text-align: right;\">     50</td><td style=\"text-align: right;\">            200</td><td style=\"text-align: right;\">0.001</td><td style=\"text-align: right;\">         10</td><td style=\"text-align: right;\">2.84762 </td><td style=\"text-align: right;\">     1</td><td style=\"text-align: right;\">        105.846 </td><td style=\"text-align: right;\">      -2.84762 </td></tr>\n",
       "</tbody>\n",
       "</table><br><br>"
      ],
      "text/plain": [
       "<IPython.core.display.HTML object>"
      ]
     },
     "metadata": {},
     "output_type": "display_data"
    },
    {
     "name": "stderr",
     "output_type": "stream",
     "text": [
      "2021-03-05 10:52:56,534\tINFO logger.py:690 -- Removed the following hyperparameter values when logging to tensorboard: {'activation': ReLU()}\n"
     ]
    },
    {
     "name": "stdout",
     "output_type": "stream",
     "text": [
      "Result for training_bc338_00011:\n",
      "  date: 2021-03-05_10-52-56\n",
      "  done: true\n",
      "  experiment_id: 38431b143a964fe4bc607fc38f2cb5ce\n",
      "  experiment_tag: 11_activation=ReLU(),batch_size=30,epoch=50,hidden_neuron=200,lr=0.001,nb_layers=10\n",
      "  hostname: abdellah-Latitude-E7270\n",
      "  iterations_since_restore: 1\n",
      "  mean_loss: 0.914558470249176\n",
      "  neg_mean_loss: -0.914558470249176\n",
      "  node_ip: 192.168.1.21\n",
      "  pid: 12794\n",
      "  time_since_restore: 96.11981010437012\n",
      "  time_this_iter_s: 96.11981010437012\n",
      "  time_total_s: 96.11981010437012\n",
      "  timestamp: 1614937976\n",
      "  timesteps_since_restore: 0\n",
      "  training_iteration: 1\n",
      "  trial_id: bc338_00011\n",
      "  \n"
     ]
    },
    {
     "data": {
      "text/html": [
       "== Status ==<br>Memory usage on this node: 6.2/7.6 GiB<br>Using FIFO scheduling algorithm.<br>Resources requested: 0/4 CPUs, 0/0 GPUs, 0.0/2.59 GiB heap, 0.0/0.88 GiB objects<br>Result logdir: /home/abdellah/ray_results/training_2021-03-05_10-47-01<br>Number of trials: 12/12 (12 TERMINATED)<br><table>\n",
       "<thead>\n",
       "<tr><th>Trial name          </th><th>status    </th><th>loc  </th><th>activation  </th><th style=\"text-align: right;\">  batch_size</th><th style=\"text-align: right;\">  epoch</th><th style=\"text-align: right;\">  hidden_neuron</th><th style=\"text-align: right;\">   lr</th><th style=\"text-align: right;\">  nb_layers</th><th style=\"text-align: right;\">    loss</th><th style=\"text-align: right;\">  iter</th><th style=\"text-align: right;\">  total time (s)</th><th style=\"text-align: right;\">  neg_mean_loss</th></tr>\n",
       "</thead>\n",
       "<tbody>\n",
       "<tr><td>training_bc338_00000</td><td>TERMINATED</td><td>     </td><td>SiLU()      </td><td style=\"text-align: right;\">          30</td><td style=\"text-align: right;\">     50</td><td style=\"text-align: right;\">            100</td><td style=\"text-align: right;\">0.001</td><td style=\"text-align: right;\">          2</td><td style=\"text-align: right;\">0.784674</td><td style=\"text-align: right;\">     1</td><td style=\"text-align: right;\">         26.6921</td><td style=\"text-align: right;\">      -0.784674</td></tr>\n",
       "<tr><td>training_bc338_00001</td><td>TERMINATED</td><td>     </td><td>ReLU()      </td><td style=\"text-align: right;\">          30</td><td style=\"text-align: right;\">     50</td><td style=\"text-align: right;\">            100</td><td style=\"text-align: right;\">0.001</td><td style=\"text-align: right;\">          2</td><td style=\"text-align: right;\">0.776025</td><td style=\"text-align: right;\">     1</td><td style=\"text-align: right;\">         29.6278</td><td style=\"text-align: right;\">      -0.776025</td></tr>\n",
       "<tr><td>training_bc338_00002</td><td>TERMINATED</td><td>     </td><td>SiLU()      </td><td style=\"text-align: right;\">          30</td><td style=\"text-align: right;\">     50</td><td style=\"text-align: right;\">            200</td><td style=\"text-align: right;\">0.001</td><td style=\"text-align: right;\">          2</td><td style=\"text-align: right;\">0.78283 </td><td style=\"text-align: right;\">     1</td><td style=\"text-align: right;\">         41.2087</td><td style=\"text-align: right;\">      -0.78283 </td></tr>\n",
       "<tr><td>training_bc338_00003</td><td>TERMINATED</td><td>     </td><td>ReLU()      </td><td style=\"text-align: right;\">          30</td><td style=\"text-align: right;\">     50</td><td style=\"text-align: right;\">            200</td><td style=\"text-align: right;\">0.001</td><td style=\"text-align: right;\">          2</td><td style=\"text-align: right;\">0.796393</td><td style=\"text-align: right;\">     1</td><td style=\"text-align: right;\">         47.2519</td><td style=\"text-align: right;\">      -0.796393</td></tr>\n",
       "<tr><td>training_bc338_00004</td><td>TERMINATED</td><td>     </td><td>SiLU()      </td><td style=\"text-align: right;\">          30</td><td style=\"text-align: right;\">     50</td><td style=\"text-align: right;\">            100</td><td style=\"text-align: right;\">0.001</td><td style=\"text-align: right;\">          5</td><td style=\"text-align: right;\">0.837907</td><td style=\"text-align: right;\">     1</td><td style=\"text-align: right;\">         43.2841</td><td style=\"text-align: right;\">      -0.837907</td></tr>\n",
       "<tr><td>training_bc338_00005</td><td>TERMINATED</td><td>     </td><td>ReLU()      </td><td style=\"text-align: right;\">          30</td><td style=\"text-align: right;\">     50</td><td style=\"text-align: right;\">            100</td><td style=\"text-align: right;\">0.001</td><td style=\"text-align: right;\">          5</td><td style=\"text-align: right;\">0.823411</td><td style=\"text-align: right;\">     1</td><td style=\"text-align: right;\">         44.9447</td><td style=\"text-align: right;\">      -0.823411</td></tr>\n",
       "<tr><td>training_bc338_00006</td><td>TERMINATED</td><td>     </td><td>SiLU()      </td><td style=\"text-align: right;\">          30</td><td style=\"text-align: right;\">     50</td><td style=\"text-align: right;\">            200</td><td style=\"text-align: right;\">0.001</td><td style=\"text-align: right;\">          5</td><td style=\"text-align: right;\">0.831331</td><td style=\"text-align: right;\">     1</td><td style=\"text-align: right;\">         58.7108</td><td style=\"text-align: right;\">      -0.831331</td></tr>\n",
       "<tr><td>training_bc338_00007</td><td>TERMINATED</td><td>     </td><td>ReLU()      </td><td style=\"text-align: right;\">          30</td><td style=\"text-align: right;\">     50</td><td style=\"text-align: right;\">            200</td><td style=\"text-align: right;\">0.001</td><td style=\"text-align: right;\">          5</td><td style=\"text-align: right;\">0.844404</td><td style=\"text-align: right;\">     1</td><td style=\"text-align: right;\">         69.3339</td><td style=\"text-align: right;\">      -0.844404</td></tr>\n",
       "<tr><td>training_bc338_00008</td><td>TERMINATED</td><td>     </td><td>SiLU()      </td><td style=\"text-align: right;\">          30</td><td style=\"text-align: right;\">     50</td><td style=\"text-align: right;\">            100</td><td style=\"text-align: right;\">0.001</td><td style=\"text-align: right;\">         10</td><td style=\"text-align: right;\">0.962763</td><td style=\"text-align: right;\">     1</td><td style=\"text-align: right;\">         56.0509</td><td style=\"text-align: right;\">      -0.962763</td></tr>\n",
       "<tr><td>training_bc338_00009</td><td>TERMINATED</td><td>     </td><td>ReLU()      </td><td style=\"text-align: right;\">          30</td><td style=\"text-align: right;\">     50</td><td style=\"text-align: right;\">            100</td><td style=\"text-align: right;\">0.001</td><td style=\"text-align: right;\">         10</td><td style=\"text-align: right;\">0.92708 </td><td style=\"text-align: right;\">     1</td><td style=\"text-align: right;\">         50.3872</td><td style=\"text-align: right;\">      -0.92708 </td></tr>\n",
       "<tr><td>training_bc338_00010</td><td>TERMINATED</td><td>     </td><td>SiLU()      </td><td style=\"text-align: right;\">          30</td><td style=\"text-align: right;\">     50</td><td style=\"text-align: right;\">            200</td><td style=\"text-align: right;\">0.001</td><td style=\"text-align: right;\">         10</td><td style=\"text-align: right;\">2.84762 </td><td style=\"text-align: right;\">     1</td><td style=\"text-align: right;\">        105.846 </td><td style=\"text-align: right;\">      -2.84762 </td></tr>\n",
       "<tr><td>training_bc338_00011</td><td>TERMINATED</td><td>     </td><td>ReLU()      </td><td style=\"text-align: right;\">          30</td><td style=\"text-align: right;\">     50</td><td style=\"text-align: right;\">            200</td><td style=\"text-align: right;\">0.001</td><td style=\"text-align: right;\">         10</td><td style=\"text-align: right;\">0.914558</td><td style=\"text-align: right;\">     1</td><td style=\"text-align: right;\">         96.1198</td><td style=\"text-align: right;\">      -0.914558</td></tr>\n",
       "</tbody>\n",
       "</table><br><br>"
      ],
      "text/plain": [
       "<IPython.core.display.HTML object>"
      ]
     },
     "metadata": {},
     "output_type": "display_data"
    },
    {
     "name": "stderr",
     "output_type": "stream",
     "text": [
      "2021-03-05 10:52:56,590\tINFO tune.py:450 -- Total run time: 355.01 seconds (354.94 seconds for the tuning loop).\n"
     ]
    }
   ],
   "source": [
    "search_space = {\n",
    "    'lr': tune.grid_search([0.001]),\n",
    "    'hidden_neuron': tune.grid_search([ 100, 200]),\n",
    "    'epoch' : tune.grid_search([ 50]),\n",
    "    'batch_size': tune.grid_search([30]),\n",
    "    'nb_layers': tune.grid_search([2,5,10]),\n",
    "    'activation': tune.grid_search([nn.SiLU(), nn.ReLU()])\n",
    "    \n",
    "}\n",
    "analysis = tune.run(training, config=search_space, resources_per_trial={\"cpu\": 2}, mode = 'min' )"
   ]
  },
  {
   "cell_type": "code",
   "execution_count": null,
   "metadata": {},
   "outputs": [],
   "source": []
  }
 ],
 "metadata": {
  "kernelspec": {
   "display_name": "pytorch",
   "language": "python",
   "name": "pytorch"
  },
  "language_info": {
   "codemirror_mode": {
    "name": "ipython",
    "version": 3
   },
   "file_extension": ".py",
   "mimetype": "text/x-python",
   "name": "python",
   "nbconvert_exporter": "python",
   "pygments_lexer": "ipython3",
   "version": "3.7.8"
  }
 },
 "nbformat": 4,
 "nbformat_minor": 4
}
